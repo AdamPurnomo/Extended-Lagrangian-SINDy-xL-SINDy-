{
 "cells": [
  {
   "cell_type": "code",
   "execution_count": 1,
   "source": [
    "from scipy.integrate import solve_ivp\r\n",
    "import numpy as np\r\n",
    "import matplotlib.pyplot as plt\r\n",
    "from mpl_toolkits.mplot3d import Axes3D\r\n",
    "import tempfile\r\n",
    "import os"
   ],
   "outputs": [],
   "metadata": {}
  },
  {
   "cell_type": "code",
   "execution_count": 2,
   "source": [
    "rootdir = \"Spherical Pendulum/Data/\"\r\n",
    "imdir = \"Spherical Pendulum/Images/\""
   ],
   "outputs": [],
   "metadata": {}
  },
  {
   "cell_type": "code",
   "execution_count": 3,
   "source": [
    "q_true = np.load(rootdir + \"q_true.npy\")"
   ],
   "outputs": [],
   "metadata": {}
  },
  {
   "cell_type": "code",
   "execution_count": 4,
   "source": [
    "q_pred_1e03_noise = np.load(rootdir + \"q_pred_1e-03_noise.npy\")\r\n",
    "q_pred_2e02_noise = np.load(rootdir + \"q_pred_2e-02_noise.npy\")\r\n",
    "q_pred_6e02_noise = np.load(rootdir + \"q_pred_6e-02_noise.npy\")\r\n",
    "q_pred_1e01_noise = np.load(rootdir + \"q_pred_1e-01_noise.npy\")"
   ],
   "outputs": [],
   "metadata": {}
  },
  {
   "cell_type": "code",
   "execution_count": 5,
   "source": [
    "t = np.arange(0,10,0.01)"
   ],
   "outputs": [],
   "metadata": {}
  },
  {
   "cell_type": "code",
   "execution_count": 6,
   "source": [
    "def showSphericalPend(fig,ax,q,i,title, trace=True,start_trace=0):\r\n",
    "    ax.set_xlim3d(-1, 1)\r\n",
    "    ax.set_ylim3d(-1,1)\r\n",
    "    ax.set_zlim3d(-1,1)\r\n",
    "    ax.set_xlabel('x')\r\n",
    "    ax.set_ylabel('y')\r\n",
    "    ax.set_zlabel('z')\r\n",
    "    theta = q[0,:i+1]\r\n",
    "    phi = q[1,:i+1]\r\n",
    "    # print(theta.shape)\r\n",
    "    x = np.sin(theta)*np.cos(phi)\r\n",
    "    y = np.sin(theta)*np.sin(phi)\r\n",
    "    z = np.cos(theta)\r\n",
    "    # print(z.shape)\r\n",
    "    ax.plot((x[-1],0),(y[-1],0),(z[-1],0),color='k')\r\n",
    "    ax.scatter3D(x[-1],y[-1],z[-1],color='k')\r\n",
    "    if(trace==True):\r\n",
    "        ax.plot3D(x[start_trace:], y[start_trace:], z[start_trace:])\r\n",
    "    #ax.text2D(0.1, 0.95, title, transform=ax.transAxes, fontsize=12)\r\n",
    "    ax.title.set_text(title)"
   ],
   "outputs": [],
   "metadata": {}
  },
  {
   "cell_type": "code",
   "execution_count": 7,
   "source": [
    "def show(i):\r\n",
    "    fig= plt.figure(figsize=(9,7))\r\n",
    "    \r\n",
    "    ax0 = fig.add_subplot(2,3,1, projection='3d')\r\n",
    "    ax0.axis('off')\r\n",
    "\r\n",
    "    ax1 = fig.add_subplot(2,3,2, projection='3d')\r\n",
    "    #ax1.set_aspect(aspect=1)\r\n",
    "\r\n",
    "    ax2 = fig.add_subplot(2,3,4, projection='3d')\r\n",
    "    #ax2.set_aspect(aspect=1)\r\n",
    "\r\n",
    "    ax3 = fig.add_subplot(2,3,5, projection='3d')\r\n",
    "    #ax3.set_aspect(aspect=1)\r\n",
    "\r\n",
    "    ax4 = fig.add_subplot(2,3,6, projection='3d')\r\n",
    "    #ax4.set_aspect(aspect=1)\r\n",
    "\r\n",
    "\r\n",
    "    if(i>=500):\r\n",
    "        showSphericalPend(fig,ax1,q_true,i,\"True Model\",trace=True, start_trace=500)\r\n",
    "        showSphericalPend(fig,ax2,q_pred_1e03_noise,i,\"xL-SINDy at $\\sigma=10^{-3}$\", trace=True,start_trace=500)\r\n",
    "        showSphericalPend(fig,ax3,q_pred_2e02_noise,i,\"xL-SINDy at $\\sigma=2 \\\\times 10^{-2}$\", trace=True,start_trace=500)\r\n",
    "        showSphericalPend(fig,ax4,q_pred_6e02_noise,i,\"xL-SINDy at $\\sigma=6 \\\\times 10^{-2}$\", trace=True,start_trace=500)\r\n",
    "        ax0.text(0.5, 0.5, 0.5, 'Validation Period', horizontalalignment='center',verticalalignment='center', fontsize=15)\r\n",
    "    else:\r\n",
    "        showSphericalPend(fig,ax1,q_true,i,\"True Model\",trace=False)\r\n",
    "        ax0.text(0.5, 0.5, 0.5, 'Training Period', horizontalalignment='center',verticalalignment='center', fontsize=15)\r\n",
    "    \r\n",
    "        ax1.set_xlim3d(-1, 1)\r\n",
    "        ax1.set_ylim3d(-1,1)\r\n",
    "        ax1.set_zlim3d(-1,1)\r\n",
    "        ax1.set_xlabel('x')\r\n",
    "        ax1.set_ylabel('y')\r\n",
    "        ax1.set_zlabel('z')\r\n",
    "\r\n",
    "        ax2.set_xlim3d(-1, 1)\r\n",
    "        ax2.set_ylim3d(-1,1)\r\n",
    "        ax2.set_zlim3d(-1,1)\r\n",
    "        ax2.set_xlabel('x')\r\n",
    "        ax2.set_ylabel('y')\r\n",
    "        ax2.set_zlabel('z')\r\n",
    "\r\n",
    "\r\n",
    "        ax3.set_xlim3d(-1, 1)\r\n",
    "        ax3.set_ylim3d(-1,1)\r\n",
    "        ax3.set_zlim3d(-1,1)\r\n",
    "        ax3.set_xlabel('x')\r\n",
    "        ax3.set_ylabel('y')\r\n",
    "        ax3.set_zlabel('z')\r\n",
    "\r\n",
    "\r\n",
    "        ax4.set_xlim3d(-1, 1)\r\n",
    "        ax4.set_ylim3d(-1,1)\r\n",
    "        ax4.set_zlim3d(-1,1)\r\n",
    "        ax4.set_xlabel('x')\r\n",
    "        ax4.set_ylabel('y')\r\n",
    "        ax4.set_zlabel('z')\r\n",
    "\r\n",
    "        #ax2.text2D(0.1, 0.95, \"xL-SINDy at $\\sigma=10^{-3}$\", transform=ax2.transAxes, fontsize=12)\r\n",
    "        #ax3.text2D(0.1, 0.95, \"xL-SINDy at $\\sigma=2\\\\times10^{-2}$\", transform=ax3.transAxes, fontsize=12)\r\n",
    "        #ax4.text2D(0.1, 0.95, \"xL-SINDy at $\\sigma=6\\\\times10^{-2}$\", transform=ax4.transAxes, fontsize=12)\r\n",
    "        ax2.title.set_text(\"xL-SINDy at $\\sigma=10^{-3}$\")\r\n",
    "        ax3.title.set_text(\"xL-SINDy at $\\sigma=2\\\\times10^{-2}$\")\r\n",
    "        ax4.title.set_text(\"xL-SINDy at $\\sigma=6\\\\times10^{-2}$\")\r\n",
    "\r\n",
    "    fig.tight_layout()\r\n",
    "    fig.savefig(os.path.join(imdir, '{:03d}.png'.format(i)), dpi = 400)\r\n",
    "    plt.close(fig)\r\n",
    "\r\n"
   ],
   "outputs": [],
   "metadata": {}
  },
  {
   "cell_type": "code",
   "execution_count": 8,
   "source": [
    "for i in range(t.shape[0]):\r\n",
    "    show(i)"
   ],
   "outputs": [],
   "metadata": {}
  },
  {
   "cell_type": "code",
   "execution_count": null,
   "source": [],
   "outputs": [],
   "metadata": {}
  }
 ],
 "metadata": {
  "orig_nbformat": 4,
  "language_info": {
   "name": "python",
   "version": "3.8.5",
   "mimetype": "text/x-python",
   "codemirror_mode": {
    "name": "ipython",
    "version": 3
   },
   "pygments_lexer": "ipython3",
   "nbconvert_exporter": "python",
   "file_extension": ".py"
  },
  "kernelspec": {
   "name": "python3",
   "display_name": "Python 3.8.5 64-bit ('base': conda)"
  },
  "interpreter": {
   "hash": "f1d67c02906d6c1ff3c3070626bd4101068c113474fc7d697a1e8253903ce81f"
  }
 },
 "nbformat": 4,
 "nbformat_minor": 2
}