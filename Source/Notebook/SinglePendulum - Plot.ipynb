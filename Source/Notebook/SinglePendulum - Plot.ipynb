{
    "cells": [
        {
            "cell_type": "code",
            "execution_count": 1,
            "source": [
                "import numpy as np\r\n",
                "import sys \r\n",
                "sys.path.append(r'../Python Script/')\r\n",
                "\r\n",
                "from sympy import symbols, simplify, derive_by_array\r\n",
                "from scipy.integrate import solve_ivp\r\n",
                "from xLSINDy import *\r\n",
                "from sympy.physics.mechanics import *\r\n",
                "from sympy import *\r\n",
                "import sympy\r\n",
                "import torch\r\n",
                "import sys \r\n",
                "sys.path.append(r'../../../HLsearch/')\r\n",
                "import HLsearch as HL"
            ],
            "outputs": [],
            "metadata": {}
        },
        {
            "cell_type": "code",
            "execution_count": 2,
            "source": [
                "import time\r\n",
                "\r\n",
                "def generate_data(func, time, init_values):\r\n",
                "    sol = solve_ivp(func,[time[0],time[-1]],init_values,t_eval=time, method='RK45',rtol=1e-10,atol=1e-10)\r\n",
                "    return sol.y.T, np.array([func(0,sol.y.T[i,:]) for i in range(sol.y.T.shape[0])],dtype=np.float64)\r\n",
                "\r\n",
                "def pendulum(t,x):\r\n",
                "    return x[1],-9.81*np.sin(x[0])"
            ],
            "outputs": [],
            "metadata": {}
        },
        {
            "cell_type": "code",
            "execution_count": 3,
            "source": [
                "#Saving Directory\r\n",
                "rootdir = \"../Single Pendulum/Data/\"\r\n",
                "\r\n",
                "num_sample = 100\r\n",
                "create_data = False\r\n",
                "training = False\r\n",
                "\r\n",
                "a = 2\r\n",
                "b = 2\r\n",
                "noiselevel = a*10**(-b)"
            ],
            "outputs": [],
            "metadata": {}
        },
        {
            "cell_type": "code",
            "execution_count": 4,
            "source": [
                "if(create_data):\r\n",
                "    X, Xdot = [], []\r\n",
                "    for i in range(num_sample):\r\n",
                "        t = np.arange(0,5,0.01)\r\n",
                "\r\n",
                "        theta = np.random.uniform(-np.pi, np.pi)\r\n",
                "        thetadot = np.random.uniform(-2.1,2.1)\r\n",
                "        cond = 0.5*thetadot**2 - np.cos(theta)\r\n",
                "        #checking condition so that it does not go full loop\r\n",
                "        while(cond>0.99):\r\n",
                "            theta = np.random.uniform(-np.pi, np.pi)\r\n",
                "            thetadot = np.random.uniform(-2.1,2.1)\r\n",
                "            cond = 0.5*thetadot**2 - np.cos(theta)\r\n",
                "        \r\n",
                "        y_0 = np.array([theta, thetadot])\r\n",
                "        x,xdot = generate_data(pendulum, t, y_0)\r\n",
                "        X.append(x)\r\n",
                "        Xdot.append(xdot)\r\n",
                "    X = np.vstack(X)\r\n",
                "    Xdot = np.vstack(Xdot)\r\n",
                "else:\r\n",
                "    X = np.load(rootdir + \"X.npy\")\r\n",
                "    Xdot = np.load(rootdir + \"Xdot.npy\")"
            ],
            "outputs": [],
            "metadata": {}
        },
        {
            "cell_type": "code",
            "execution_count": 5,
            "source": [
                "states_dim = 2\r\n",
                "states = ()\r\n",
                "states_dot = ()\r\n",
                "for i in range(states_dim):\r\n",
                "    if(i<states_dim//2):\r\n",
                "        states = states + (symbols('x{}'.format(i)),)\r\n",
                "        states_dot = states_dot + (symbols('x{}_t'.format(i)),)\r\n",
                "    else:\r\n",
                "        states = states + (symbols('x{}_t'.format(i-states_dim//2)),)\r\n",
                "        states_dot = states_dot + (symbols('x{}_tt'.format(i-states_dim//2)),)\r\n",
                "print('states are:',states)\r\n",
                "print('states derivatives are: ', states_dot)"
            ],
            "outputs": [
                {
                    "output_type": "stream",
                    "name": "stdout",
                    "text": [
                        "states are: (x0, x0_t)\n",
                        "states derivatives are:  (x0_t, x0_tt)\n"
                    ]
                }
            ],
            "metadata": {}
        },
        {
            "cell_type": "code",
            "execution_count": 6,
            "source": [
                "#Turn from sympy to str\r\n",
                "states_sym = states\r\n",
                "states_dot_sym = states_dot\r\n",
                "states = list(str(descr) for descr in states)\r\n",
                "states_dot = list(str(descr) for descr in states_dot)"
            ],
            "outputs": [],
            "metadata": {}
        },
        {
            "cell_type": "code",
            "execution_count": 7,
            "source": [
                "#identifier = \"no\"\r\n",
                "identifier = str(a) + \"e-0\" + str(b)\r\n",
                "if(training==False):\r\n",
                "    with open(rootdir + \"lagrangian_\" + identifier + \"_noise.txt\") as f:\r\n",
                "        L = f.readline()\r\n",
                "        print(L)\r\n",
                "        expr = L.split(\" +\")\r\n",
                "        device = \"cuda:0\"\r\n",
                "        xi_L = torch.ones(len(expr),device=device)\r\n",
                "        mask = torch.ones(len(expr),device=device)\r\n",
                "        "
            ],
            "outputs": [
                {
                    "output_type": "stream",
                    "name": "stdout",
                    "text": [
                        "-0.334*x0_t**2 - 6.54*cos(x0)\n"
                    ]
                }
            ],
            "metadata": {}
        },
        {
            "cell_type": "code",
            "execution_count": 8,
            "source": [
                "#obtaining equations of motions\r\n",
                "x0 = dynamicsymbols(states[0])\r\n",
                "x0_t = dynamicsymbols(states[0],1)\r\n",
                "L = eval(str(L))\r\n",
                "LM = LagrangesMethod(L, [x0])\r\n",
                "LM.form_lagranges_equations()\r\n",
                "eom = LM.rhs()[1]\r\n",
                "\r\n",
                "#convert to string\r\n",
                "eom = str(eom).replace('(t)','')\r\n",
                "\r\n",
                "def predictedpendulum(t,x):\r\n",
                "    from numpy import sin, cos\r\n",
                "    x0 = x[0]\r\n",
                "    x0_t = x[1]\r\n",
                "    return x0_t,eval(eom)"
            ],
            "outputs": [],
            "metadata": {}
        },
        {
            "cell_type": "code",
            "execution_count": 9,
            "source": [
                "## Training Results ##\r\n",
                "import matplotlib.pyplot as plt\r\n",
                "\r\n",
                "#forward\r\n",
                "t = np.arange(0,5,0.01)\r\n",
                "\r\n",
                "idx = 0\r\n",
                "y_0 = X[idx,:]\r\n",
                "\r\n",
                "X, Xdot = generate_data(pendulum, t, y_0)\r\n",
                "\r\n",
                "q_tt_true_wn = (Xdot[:,states_dim//2:].T).copy()\r\n",
                "q_t_true_wn = (Xdot[:,:states_dim//2].T).copy()\r\n",
                "q_true_wn = (X[:,:states_dim//2].T).copy()\r\n",
                "\r\n",
                "#adding noise\r\n",
                "mu, sigma = 0, noiselevel\r\n",
                "noise = np.random.normal(mu, sigma, X.shape[0])\r\n",
                "for i in range(X.shape[1]):\r\n",
                "    X[:,i] = X[:,i]+noise\r\n",
                "    Xdot[:,i] = Xdot[:,i]+noise\r\n",
                "\r\n",
                "q_tt_true = Xdot[:,states_dim//2:].T\r\n",
                "q_t_true = Xdot[:,:states_dim//2].T\r\n",
                "q_true = X[:,:states_dim//2].T\r\n",
                "\r\n",
                "#ours\r\n",
                "Xpred,Xdotpred = generate_data(predictedpendulum, t, y_0)\r\n",
                "\r\n",
                "q_tt_pred = Xdotpred[:,states_dim//2:].T\r\n",
                "q_t_pred = Xdotpred[:,:states_dim//2].T\r\n",
                "q_pred = Xpred[:,:states_dim//2].T"
            ],
            "outputs": [],
            "metadata": {}
        },
        {
            "cell_type": "code",
            "execution_count": 10,
            "source": [
                "q_true_wn.shape"
            ],
            "outputs": [
                {
                    "output_type": "execute_result",
                    "data": {
                        "text/plain": [
                            "(1, 500)"
                        ]
                    },
                    "metadata": {},
                    "execution_count": 10
                }
            ],
            "metadata": {}
        },
        {
            "cell_type": "code",
            "execution_count": 11,
            "source": [
                "q_pred.shape"
            ],
            "outputs": [
                {
                    "output_type": "execute_result",
                    "data": {
                        "text/plain": [
                            "(1, 500)"
                        ]
                    },
                    "metadata": {},
                    "execution_count": 11
                }
            ],
            "metadata": {}
        },
        {
            "cell_type": "code",
            "execution_count": 12,
            "source": [
                "## Validation Results ##\r\n",
                "ttest = np.arange(5,10,0.01)\r\n",
                "y_0 = np.array([q_true_wn[0,-1], q_t_true_wn[0,-1]])\r\n",
                "Xtest,Xdottest = generate_data(pendulum, ttest, y_0)\r\n",
                "\r\n",
                "y_0 = np.array([q_pred[0,-1], q_t_pred[0,-1]])\r\n",
                "Xtestpred,Xdottestpred = generate_data(predictedpendulum, ttest, y_0)"
            ],
            "outputs": [],
            "metadata": {}
        },
        {
            "cell_type": "code",
            "execution_count": 13,
            "source": [
                "# Concatenante training and test data\r\n",
                "t = np.concatenate((t, ttest))\r\n",
                "q_tt_true = np.concatenate((q_tt_true, Xdottest[:,states_dim//2:].T), axis=1)\r\n",
                "q_t_true = np.concatenate((q_t_true, Xtest[:,states_dim//2:].T), axis=1)\r\n",
                "q_true = np.concatenate((q_true,Xtest[:,:states_dim//2].T), axis=1)\r\n",
                "\r\n",
                "q_tt_pred = np.concatenate((q_tt_pred,Xdottestpred[:,states_dim//2:].T), axis=1)\r\n",
                "q_t_pred = np.concatenate((q_t_pred, Xtestpred[:,states_dim//2:].T), axis=1)\r\n",
                "q_pred = np.concatenate((q_pred,Xtestpred[:,:states_dim//2].T), axis=1)"
            ],
            "outputs": [],
            "metadata": {}
        },
        {
            "cell_type": "code",
            "execution_count": 14,
            "source": [
                "fig, ax = plt.subplots(3,1,figsize=(5,4))\r\n",
                "\r\n",
                "ax[0].plot(t, q_tt_true[0,:], label='True Model')\r\n",
                "ax[0].plot(t, q_tt_pred[0,:], 'r--',label='Predicted Model')\r\n",
                "ax[0].set_ylabel('$\\ddot{\\\\theta}$ (rad)')\r\n",
                "ax[0].vlines(5,0,1,transform=ax[0].get_xaxis_transform(),colors='k')\r\n",
                "ax[0].set_xlim([0,10])\r\n",
                "\r\n",
                "ax[1].plot(t, q_t_true[0,:], label='True Model')\r\n",
                "ax[1].plot(t, q_t_pred[0,:], 'r--',label='Predicted Model')\r\n",
                "ax[1].set_ylabel('$\\dot{\\\\theta}$ (rad)')\r\n",
                "ax[1].vlines(5,0,1,transform=ax[1].get_xaxis_transform(),colors='k')\r\n",
                "ax[1].set_xlim([0,10])\r\n",
                "\r\n",
                "ax[2].plot(t, q_true[0,:], label='True Model')\r\n",
                "ax[2].plot(t, q_pred[0,:], 'r--',label='Predicted Model')\r\n",
                "ax[2].set_xlabel('Time (s)')\r\n",
                "ax[2].set_ylabel('$\\\\theta$ (rad)')\r\n",
                "ax[2].vlines(5,0,1,transform=ax[2].get_xaxis_transform(),colors='k')\r\n",
                "ax[2].set_xlim([0,10])\r\n",
                "\r\n",
                "Line, Label = ax[0].get_legend_handles_labels()\r\n",
                "fig.legend(Line, Label, loc='upper right', bbox_to_anchor=(1.5, 0.98))\r\n",
                "\r\n",
                "fig.tight_layout()\r\n",
                "#fig.savefig(rootdir + \"training_\" + str(noiselevel)+ \"_noise.png\", bbox_inches='tight',dpi=400)\r\n"
            ],
            "outputs": [
                {
                    "output_type": "display_data",
                    "data": {
                        "image/png": "[encoded data removed]",
                        "text/plain": [
                            "<Figure size 360x288 with 3 Axes>"
                        ]
                    },
                    "metadata": {
                        "needs_background": "light"
                    }
                }
            ],
            "metadata": {}
        },
        {
            "cell_type": "code",
            "execution_count": null,
            "source": [],
            "outputs": [],
            "metadata": {}
        }
    ],
    "metadata": {
        "orig_nbformat": 4,
        "language_info": {
            "name": "python",
            "version": "3.8.10",
            "mimetype": "text/x-python",
            "codemirror_mode": {
                "name": "ipython",
                "version": 3
            },
            "pygments_lexer": "ipython3",
            "nbconvert_exporter": "python",
            "file_extension": ".py"
        },
        "kernelspec": {
            "name": "python3",
            "display_name": "Python 3.8.10 64-bit ('SystemIdentification': conda)"
        },
        "interpreter": {
            "hash": "d5784be8b0ed123205c521437a438df309f2d2f16cb6cf8124a1b3e0f87bfce1"
        }
    },
    "nbformat": 4,
    "nbformat_minor": 2
}