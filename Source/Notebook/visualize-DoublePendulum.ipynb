{
 "cells": [
  {
   "cell_type": "code",
   "execution_count": 1,
   "source": [
    "from scipy.integrate import solve_ivp\r\n",
    "import numpy as np\r\n",
    "import matplotlib.pyplot as plt\r\n",
    "from mpl_toolkits.mplot3d import Axes3D\r\n",
    "import tempfile\r\n",
    "import os"
   ],
   "outputs": [],
   "metadata": {}
  },
  {
   "cell_type": "code",
   "execution_count": 2,
   "source": [
    "rootdir = \"Double Pendulum/Data/\"\r\n",
    "imdir = \"Double Pendulum/Images/\""
   ],
   "outputs": [],
   "metadata": {}
  },
  {
   "cell_type": "code",
   "execution_count": 3,
   "source": [
    "q_true = np.load(rootdir + \"q_true.npy\")"
   ],
   "outputs": [],
   "metadata": {}
  },
  {
   "cell_type": "code",
   "execution_count": 4,
   "source": [
    "q_pred_1e03_noise = np.load(rootdir + \"q_pred_1e-03_noise.npy\")\r\n",
    "q_pred_2e02_noise = np.load(rootdir + \"q_pred_2e-02_noise.npy\")\r\n",
    "q_pred_6e02_noise = np.load(rootdir + \"q_pred_6e-02_noise.npy\")\r\n",
    "q_pred_1e01_noise = np.load(rootdir + \"q_pred_1e-01_noise.npy\")"
   ],
   "outputs": [],
   "metadata": {}
  },
  {
   "cell_type": "code",
   "execution_count": 5,
   "source": [
    "t = np.arange(0,10,0.01)"
   ],
   "outputs": [],
   "metadata": {}
  },
  {
   "cell_type": "code",
   "execution_count": 6,
   "source": [
    "def showDoublePend(fig,ax,q,i,title,trace=True,start_trace=0):\r\n",
    "    l1,l2=1.0,1.0\r\n",
    "    ax.set_xlim((-2.5, 2.5))\r\n",
    "    ax.set_ylim((-2.5, 2.5))\r\n",
    "    ax.set_xlabel('x')\r\n",
    "    ax.set_ylabel('y')\r\n",
    "    theta0 = q[0,:i+1]\r\n",
    "    theta1 = q[1,:i+1]\r\n",
    "    c0,s0 = np.cos(theta0), np.sin(theta0)\r\n",
    "    c1,s1 = np.cos(theta1), np.sin(theta1)\r\n",
    "    x0,y0 = l1*s0,-l1*c0\r\n",
    "    x1,y1 = x0+l2*s1,y0-l2*c1\r\n",
    "    ax.plot((0,x0[-1]), (0, y0[-1]), color='k')\r\n",
    "    ax.plot((x0[-1],x1[-1]), (y0[-1], y1[-1]), color='k')\r\n",
    "    if(trace==True):\r\n",
    "        ax.plot(x0[start_trace:],y0[start_trace:])\r\n",
    "        ax.plot(x1[start_trace:],y1[start_trace:])\r\n",
    "    circle1 = plt.Circle((x0[-1],y0[-1]),0.1,color='k')\r\n",
    "    circle2 = plt.Circle((x1[-1],y1[-1]),0.1,color='k')\r\n",
    "    ax.add_artist(circle1)\r\n",
    "    ax.add_artist(circle2)\r\n",
    "    ax.title.set_text(title)"
   ],
   "outputs": [],
   "metadata": {}
  },
  {
   "cell_type": "code",
   "execution_count": 13,
   "source": [
    "def show(i):\r\n",
    "    fig= plt.figure(figsize=(9,6))\r\n",
    "    \r\n",
    "    ax0 = fig.add_subplot(2,3,1)\r\n",
    "    ax0.axis('off')\r\n",
    "\r\n",
    "    ax1 = fig.add_subplot(2,3,2)\r\n",
    "    ax1.set_aspect(aspect=1)\r\n",
    "\r\n",
    "    ax2 = fig.add_subplot(2,3,4)\r\n",
    "    ax2.set_aspect(aspect=1)\r\n",
    "\r\n",
    "    ax3 = fig.add_subplot(2,3,5)\r\n",
    "    ax3.set_aspect(aspect=1)\r\n",
    "\r\n",
    "    ax4 = fig.add_subplot(2,3,6)\r\n",
    "    ax4.set_aspect(aspect=1)\r\n",
    "\r\n",
    "\r\n",
    "    if(i>=500):\r\n",
    "        showDoublePend(fig,ax1,q_true,i,\"True Model\",trace=True, start_trace=500)\r\n",
    "        showDoublePend(fig,ax2,q_pred_1e03_noise,i,\"xL-SINDy at $\\sigma=10^{-3}$\", trace=True,start_trace=500)\r\n",
    "        showDoublePend(fig,ax3,q_pred_2e02_noise,i,\"xL-SINDy at $\\sigma=2 \\\\times 10^{-2}$\", trace=True,start_trace=500)\r\n",
    "        showDoublePend(fig,ax4,q_pred_6e02_noise,i,\"xL-SINDy at $\\sigma=6 \\\\times 10^{-2}$\", trace=True,start_trace=500)\r\n",
    "        ax0.text(0.5, 0.5, 'Validation Period', horizontalalignment='center',verticalalignment='center', fontsize=15)\r\n",
    "    else:\r\n",
    "        showDoublePend(fig,ax1,q_true,i,\"True Model\",trace=False)\r\n",
    "        ax0.text(0.5, 0.5, 'Training Period', horizontalalignment='center',verticalalignment='center', fontsize=15)\r\n",
    "    \r\n",
    "        ax2.set_xlim((-2.5, 2.5))\r\n",
    "        ax2.set_ylim((-2.5, 2.5))\r\n",
    "        ax2.set_xlabel('x')\r\n",
    "        ax2.set_ylabel('y')\r\n",
    "    \r\n",
    "        ax3.set_xlim((-2.5, 2.5))\r\n",
    "        ax3.set_ylim((-2.5, 2.5))\r\n",
    "        ax3.set_xlabel('x')\r\n",
    "        ax3.set_ylabel('y')\r\n",
    "\r\n",
    "        ax4.set_xlim((-2.5, 2.5))\r\n",
    "        ax4.set_ylim((-2.5, 2.5))\r\n",
    "        ax4.set_xlabel('x')\r\n",
    "        ax4.set_ylabel('y')\r\n",
    "\r\n",
    "        ax2.title.set_text(\"xL-SINDy at $\\sigma=10^{-3}$\")\r\n",
    "        ax3.title.set_text(\"xL-SINDy at $\\sigma=2\\\\times10^{-2}$\")\r\n",
    "        ax4.title.set_text(\"xL-SINDy at $\\sigma=6\\\\times10^{-2}$\")\r\n",
    "\r\n",
    "    fig.tight_layout()\r\n",
    "    fig.savefig(os.path.join(imdir, '{:03d}.png'.format(i)), dpi = 400)\r\n",
    "    plt.close(fig)\r\n",
    "\r\n"
   ],
   "outputs": [],
   "metadata": {}
  },
  {
   "cell_type": "code",
   "execution_count": 14,
   "source": [
    "for i in range(t.shape[0]):\r\n",
    "    show(i)"
   ],
   "outputs": [],
   "metadata": {}
  },
  {
   "cell_type": "code",
   "execution_count": null,
   "source": [],
   "outputs": [],
   "metadata": {}
  }
 ],
 "metadata": {
  "orig_nbformat": 4,
  "language_info": {
   "name": "python",
   "version": "3.8.5",
   "mimetype": "text/x-python",
   "codemirror_mode": {
    "name": "ipython",
    "version": 3
   },
   "pygments_lexer": "ipython3",
   "nbconvert_exporter": "python",
   "file_extension": ".py"
  },
  "kernelspec": {
   "name": "python3",
   "display_name": "Python 3.8.5 64-bit"
  },
  "interpreter": {
   "hash": "f1d67c02906d6c1ff3c3070626bd4101068c113474fc7d697a1e8253903ce81f"
  }
 },
 "nbformat": 4,
 "nbformat_minor": 2
}