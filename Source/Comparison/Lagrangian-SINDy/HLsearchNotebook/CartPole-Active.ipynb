{
 "cells": [
  {
   "cell_type": "code",
   "execution_count": 1,
   "metadata": {},
   "outputs": [],
   "source": [
    "from HLsearch import *\n",
    "from scipy.integrate import solve_ivp\n",
    "import numpy as np\n",
    "from sympy import symbols, var, diff, simplify, collect,solve\n",
    "from sympy.utilities.lambdify import lambdify, implemented_function\n",
    "\n",
    "from operator import add,sub,mul\n",
    "\n",
    "import itertools\n",
    "import scipy.io as sio\n",
    "\n",
    "import time\n",
    "\n",
    "def generate_data(func, time, init_values):\n",
    "    sol = solve_ivp(func,[time[0],time[-1]],init_values,t_eval=time, method='RK45',rtol=1e-10,atol=1e-10)\n",
    "    return sol.y.T, np.array([func(0,sol.y.T[i,:]) for i in range(sol.y.T.shape[0])],dtype=np.float64)\n",
    "\n",
    "def pendulum(t,x):\n",
    "    return x[1],-9.81*np.sin(x[0])\n",
    "\n",
    "t = np.arange(0,1,0.01)\n",
    "y0=np.array([np.pi/4, 0])\n",
    "X,Xdot = generate_data(pendulum,t,y0)"
   ]
  },
  {
   "cell_type": "code",
   "execution_count": 2,
   "metadata": {},
   "outputs": [
    {
     "name": "stdout",
     "output_type": "stream",
     "text": [
      "Variables are: (x0, x0_t)\n",
      "['x0', 'x0_t', 'sin(x0)', 'cos(x0)', 'x0**2', 'x0*x0_t', 'x0_t**2', 'x0*sin(x0)', 'x0_t*sin(x0)', 'sin(x0)**2', 'x0*cos(x0)', 'x0_t*cos(x0)', 'sin(x0)*cos(x0)', 'cos(x0)**2']\n"
     ]
    }
   ],
   "source": [
    "data_description = ()\n",
    "for i in range(round(X.shape[1]/2)):\n",
    "    data_description = data_description + symbols('x{}, x{}_t'.format(i,i))\n",
    "print('Variables are:',data_description)\n",
    "data_description_sym = data_description\n",
    "data_description = list(str(descr) for descr in data_description)\n",
    "expr = buildFunctionExpressions(2,X.shape[1],data_description,use_sine=True)\n",
    "print(expr)\n",
    "Theta = buildTimeSerieMatrixFromFunctions(X,expr, data_description)\n",
    "\n",
    "Gamma = buildTimeDerivativeMatrixFromFunctions(X,Xdot,expr,data_description)\n",
    "\n",
    "\n",
    "u, s, vh = np.linalg.svd(0*Theta-Gamma,full_matrices=False)\n",
    "\n",
    "xi = vh.T[:,-1]"
   ]
  },
  {
   "cell_type": "code",
   "execution_count": 3,
   "metadata": {},
   "outputs": [
    {
     "name": "stdout",
     "output_type": "stream",
     "text": [
      "Now drop off small coefficients\n",
      "H =  0.021313435683958437*x0_t**2 - 0.4181696080660934*cos(x0)\n"
     ]
    }
   ],
   "source": [
    "print('Now drop off small coefficients')\n",
    "Hamiltonian,terms = generateSimplifiedExpression(xi,expr)\n",
    "\n",
    "print('H = ',Hamiltonian)"
   ]
  },
  {
   "cell_type": "code",
   "execution_count": 4,
   "metadata": {},
   "outputs": [
    {
     "name": "stdout",
     "output_type": "stream",
     "text": [
      "Now start calculating CartPole\n"
     ]
    }
   ],
   "source": [
    "print('Now start calculating CartPole')\n",
    "\n",
    "g=9.81\n",
    "mp=0.1\n",
    "mc=1\n",
    "l=1\n",
    "\n",
    "def cartpole(t,y,f=1.0):\n",
    "    theta,thetadot,x,xdot = y\n",
    "    xdotdot = (f+mp*np.sin(theta)*(l*thetadot**2+g*np.cos(theta)))/(mc+mp*np.sin(theta)**2)\n",
    "    thetadotdot = (-f*np.cos(theta)-mp*l*thetadot**2*np.cos(theta)*np.sin(theta)-(mc+mp)*g*np.sin(theta))/(l*(mc+mp*np.sin(theta)**2))\n",
    "    return thetadot,thetadotdot,xdot,xdotdot\n",
    "\n",
    "t = np.arange(0,0.5,0.01)\n",
    "y0=np.array([np.pi/4, 0,0, 0])\n",
    "X,Xdot = generate_data(cartpole,t,y0)\n"
   ]
  },
  {
   "cell_type": "code",
   "execution_count": 5,
   "metadata": {},
   "outputs": [
    {
     "name": "stdout",
     "output_type": "stream",
     "text": [
      "Variables are: (x0, x0_t, x1, x1_t)\n",
      "['x0_t', 'sin(x0)', 'cos(x0)']\n",
      "['x1', 'x1_t']\n"
     ]
    }
   ],
   "source": [
    "data_description = ()\n",
    "for i in range(round(X.shape[1]/2)):\n",
    "    data_description = data_description + symbols('x{}, x{}_t'.format(i,i))\n",
    "print('Variables are:',data_description)\n",
    "data_description_sym = data_description\n",
    "data_description = list(str(descr) for descr in data_description)\n",
    "# print(data_description_sym)\n",
    "# print([data_description[i] for i in range(round(len(data_description)/2))])\n",
    "\n",
    "expr_new0 = buildFunctionExpressions(1,round(X.shape[1]/2),[data_description[i] for i in range(round(len(data_description)/2))],use_sine=True)\n",
    "expr_new1 = buildFunctionExpressions(1,round(X.shape[1]/2),[data_description[i] for i in range(round(len(data_description)/2),len(data_description))],use_sine=False)\n",
    "\n",
    "print(expr_new0[1:])\n",
    "print(expr_new1)\n",
    "expr_new = expr_new0[1:]+expr_new1\n",
    "expr_new = buildFunctionExpressions(3,len(expr_new),expr_new)"
   ]
  },
  {
   "cell_type": "code",
   "execution_count": 6,
   "metadata": {},
   "outputs": [],
   "source": [
    "Theta = buildTimeSerieMatrixFromFunctions(X,expr_new, data_description)\n",
    "Gamma= buildTimeDerivativeMatrixFromFunctions(X,Xdot,expr_new,data_description)\n",
    "energyChange = 1.0*X[:,3]"
   ]
  },
  {
   "cell_type": "code",
   "execution_count": 7,
   "metadata": {},
   "outputs": [
    {
     "name": "stdout",
     "output_type": "stream",
     "text": [
      "Keeping terms:  ['cos(x0)', 'x0_t**2']\n"
     ]
    }
   ],
   "source": [
    "stored_indices = tuple(expr_new.index(str(f)) for f in terms)\n",
    "\n",
    "terms = [expr_new[i] for i in stored_indices]\n",
    "print('Keeping terms: ',terms)\n",
    "elements = tuple(x for x in range(len(expr_new)) if x not in stored_indices)\n",
    "# Hamiltonian_old = Hamiltonian_old1+Hamiltonian_old2\n",
    "\n",
    "# print(Hamiltonian_old)\n",
    "\n",
    "combi_number = 2\n",
    "indices = itertools.combinations(elements, combi_number)"
   ]
  },
  {
   "cell_type": "code",
   "execution_count": 8,
   "metadata": {},
   "outputs": [
    {
     "name": "stdout",
     "output_type": "stream",
     "text": [
      "Found good result at  771 th trial:  (19, 43, 2, 5)\n",
      "Elapsed time:  0.18 s\n",
      "\n",
      "Hamiltonian is  0.049999999999999545*x0_t**2 + 0.09999999999999967*x0_t*x1_t*cos(x0) + 0.5500000000000005*x1_t**2 - 0.980999999999992*cos(x0)\n",
      "Lagrangian is  0.05*x0_t**2 + 0.1*x0_t*x1_t*cos(x0) + 0.55*x1_t**2 + 0.980999999999992*cos(x0)\n"
     ]
    }
   ],
   "source": [
    "goodHamiltonian={}\n",
    "\n",
    "def countNumberOfElementsLargerThanThreshold(x,threshold = 1e-12):\n",
    "    count = 0\n",
    "    for i in range(len(x)):\n",
    "        if abs(x[i]) > threshold:\n",
    "            count = count +1\n",
    "    return count\n",
    "start = time.time()\n",
    "\n",
    "for count,index in enumerate(indices):\n",
    "# index_tup = (2,5,16,25)\n",
    "    index_tup = index + stored_indices\n",
    "    xi, sumResidual = np.linalg.lstsq(Gamma[:,index_tup], energyChange,rcond=None)[:2]\n",
    "    if sumResidual.size==0 or sumResidual>1e-12: continue\n",
    "    if countNumberOfElementsLargerThanThreshold(xi)<=2: continue\n",
    "    # if np.var(Gamma[:,index_tup]@xi-energyChange) > 1e-5: continue\n",
    "#     xi = np.around(xi,decimals=12)\n",
    "    expr_temp = [sympify(expr_new[i]) for i in index_tup]\n",
    "    Hamiltonian = generateExpression(xi,expr_temp,threshold=1e-12)\n",
    "#     print('Total Energy = ',Hamiltonian)\n",
    "    Lagrangian = findLagrangianFromHamiltonian(Hamiltonian,expr_temp,data_description_sym,threshold=1e-12)\n",
    "    if Lagrangian is not None and Lagrangian != '':\n",
    "        goodHamiltonian[Hamiltonian] = Lagrangian\n",
    "        print('Found good result at ',count,'th trial: ',index_tup)\n",
    "print('Elapsed time: ',np.around(time.time()-start,2), 's')\n",
    "\n",
    "for H,L in goodHamiltonian.items():\n",
    "    print('')\n",
    "    print('Hamiltonian is ',H)\n",
    "    print('Lagrangian is ',L)  "
   ]
  },
  {
   "cell_type": "code",
   "execution_count": 9,
   "metadata": {},
   "outputs": [
    {
     "name": "stdout",
     "output_type": "stream",
     "text": [
      "Matrix([\n",
      "[ 0.980999999999992*sin(theta) + 0.1*cos(theta)*x'' + 0.1*theta''],\n",
      "[-u - 0.1*sin(theta)*theta'**2 + 0.1*cos(theta)*theta'' + 1.1*x'']])\n",
      "Matrix([\n",
      "[                                                                                                                                          theta'],\n",
      "[                                                                                                                                              x'],\n",
      "[1.0*(1.0*u*cos(theta) + 10.7909999999999*sin(theta) + 0.05*sin(2*theta)*theta'**2 - 2.77555756156289e-17*sin(3*theta))/(0.1*cos(theta)**2 - 1.1)],\n",
      "[                                                  -(1.0*u + 0.1*sin(theta)*theta'**2 + 0.490499999999996*sin(2*theta))/(0.1*cos(theta)**2 - 1.1)]])\n"
     ]
    }
   ],
   "source": [
    "from sympy.physics.mechanics import *\n",
    "th,x = dynamicsymbols('theta x')\n",
    "dth,dx = dynamicsymbols('theta x',1)\n",
    "# print(dth,dx)\n",
    "state = (th,dth,x,dx)\n",
    "u = dynamicsymbols('u')\n",
    "L_subbed = L.subs(list(zip(data_description_sym,state)))\n",
    "# mprint(L_subbed)\n",
    "N = ReferenceFrame('N')\n",
    "P0 = Point(\"P0\")\n",
    "P0.set_vel(N,dx*N.x)\n",
    "# A = N.orientnew('A', 'axis', [th, N.z])\n",
    "# A.set_ang_vel(N, dth*N.z)\n",
    "fl=[(P0,u*N.x)]\n",
    "LM = LagrangesMethod(L_subbed,[th,x],forcelist=fl,frame=N)\n",
    "me = LM.form_lagranges_equations()\n",
    "mprint( simplify(me) )\n",
    "equations = simplify(LM.rhs())\n",
    "mprint(equations)"
   ]
  }
 ],
 "metadata": {
  "kernelspec": {
   "display_name": "Python 3",
   "language": "python",
   "name": "python3"
  },
  "language_info": {
   "codemirror_mode": {
    "name": "ipython",
    "version": 3
   },
   "file_extension": ".py",
   "mimetype": "text/x-python",
   "name": "python",
   "nbconvert_exporter": "python",
   "pygments_lexer": "ipython3",
   "version": "3.6.8"
  }
 },
 "nbformat": 4,
 "nbformat_minor": 2
}
