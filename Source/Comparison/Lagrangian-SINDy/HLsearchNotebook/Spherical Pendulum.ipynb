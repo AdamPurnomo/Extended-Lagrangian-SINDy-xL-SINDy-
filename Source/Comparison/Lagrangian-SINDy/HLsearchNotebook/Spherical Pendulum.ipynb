{
 "cells": [
  {
   "cell_type": "code",
   "execution_count": 11,
   "source": [
    "from HLsearch import *\r\n",
    "from scipy.integrate import solve_ivp\r\n",
    "from scipy import stats\r\n",
    "import numpy as np\r\n",
    "from sympy import symbols, var, diff, simplify, collect,solve\r\n",
    "from sympy.utilities.lambdify import lambdify, implemented_function\r\n",
    "\r\n",
    "from operator import add,sub,mul\r\n",
    "\r\n",
    "import itertools\r\n",
    "\r\n",
    "import time\r\n",
    "\r\n",
    "def generate_data(func, time, init_values):\r\n",
    "    sol = solve_ivp(func,[time[0],time[-1]],init_values,t_eval=time, method='RK45',rtol=1e-10,atol=1e-10)\r\n",
    "    return sol.y.T, np.array([func(0,sol.y.T[i,:]) for i in range(sol.y.T.shape[0])],dtype=np.float64)\r\n",
    "\r\n",
    "g = 9.81\r\n",
    "m = 1\r\n",
    "L = 1\r\n",
    "\r\n",
    "def spherePend(t,y,Moment=1.0):\r\n",
    "    theta, theta_t, phi, phi_t = y\r\n",
    "    theta_2t, phi_2t = (L**2*m*np.sin(theta)*np.cos(theta)*phi_t**2 + L*g*m*np.sin(theta))/(L**2*m),(-2.0*L**2*m*np.sin(theta)*np.cos(theta)*phi_t*theta_t + Moment)/(L**2*m*np.sin(theta)**2)\r\n",
    "    return theta_t,theta_2t,phi_t,phi_2t\r\n",
    "\r\n",
    "t = np.arange(0,1.0,0.01)\r\n",
    "y0=np.array([np.pi/2, 0,0, 0.5])\r\n",
    "X,Xdot = generate_data(spherePend,t,y0)"
   ],
   "outputs": [],
   "metadata": {}
  },
  {
   "cell_type": "code",
   "execution_count": 12,
   "source": [
    "data_description = symbols('theta theta_t phi phi_t')\r\n",
    "print('Variables are:',data_description)\r\n",
    "data_description_sym = data_description\r\n",
    "data_description = list(str(descr) for descr in data_description)\r\n",
    "\r\n",
    "expr_new0 = buildFunctionExpressions(1,round(X.shape[1]/2),[data_description[i] for i in range(round(len(data_description)/2))],use_sine=True)\r\n",
    "expr_new1 = buildFunctionExpressions(1,round(X.shape[1]/2),[data_description[i] for i in range(round(len(data_description)/2),len(data_description))],use_sine=False)\r\n",
    "\r\n",
    "print(expr_new0[1:])\r\n",
    "print(expr_new1)\r\n",
    "expr_new = expr_new0[1:]+expr_new1\r\n",
    "\r\n",
    "expr = buildFunctionExpressions(4,len(expr_new),expr_new)\r\n",
    "\r\n",
    "print(len(expr),' terms are: ',expr)\r\n",
    "\r\n",
    "Theta = buildTimeSerieMatrixFromFunctions(X,expr, data_description)\r\n",
    "\r\n",
    "Gamma = buildTimeDerivativeMatrixFromFunctions(X,Xdot,expr,data_description)\r\n",
    "\r\n",
    "energyChange = 1.0*X[:,3]\r\n",
    "\r\n",
    "stored_indices = ()\r\n",
    "elements = tuple(x for x in range(len(expr)) if x not in stored_indices)\r\n",
    "indices = itertools.combinations(elements, 3)\r\n",
    "\r\n",
    "def countNumberOfElementsLargerThanThreshold(x,threshold = 1e-8):\r\n",
    "    count = 0\r\n",
    "    for i in range(len(x)):\r\n",
    "        if abs(x[i]) > threshold:\r\n",
    "            count = count +1\r\n",
    "    return count\r\n",
    "\r\n",
    "goodHamiltonian={}\r\n",
    "\r\n",
    "start = time.time()\r\n",
    "for count,index in enumerate(indices):\r\n",
    "    index_tup = index + stored_indices\r\n",
    "    xi, sumResidual = np.linalg.lstsq(Gamma[:,index_tup], energyChange,rcond=None)[:2]\r\n",
    "    if sumResidual.size==0 or sumResidual>1e-8: continue\r\n",
    "    if countNumberOfElementsLargerThanThreshold(xi)<=2: continue\r\n",
    "    expr_temp = [sympify(expr[i]) for i in index_tup]\r\n",
    "    Hamiltonian = generateExpression(xi,expr_temp,threshold=1e-8)\r\n",
    "    Lagrangian = findLagrangianFromHamiltonian(Hamiltonian,expr_temp,data_description_sym,threshold=1e-12)\r\n",
    "    if Lagrangian is not None and Lagrangian != '':\r\n",
    "        goodHamiltonian[Hamiltonian] = Lagrangian\r\n",
    "        print('Found good result at ',count,'th trial: ',index_tup)\r\n",
    "        print('Found result after ',time.time()-start,'s')\r\n",
    "#     print('Total Energy = ',Hamiltonian)\r\n",
    "#     print('Found result after ',time.time()-start,'s')\r\n",
    "print('Elapsed time: ',time.time()-start)\r\n",
    "\r\n",
    "for H,L in goodHamiltonian.items():\r\n",
    "    print('')\r\n",
    "    print('Hamiltonian is ',H)\r\n",
    "    print('Lagrangian is ',L)  "
   ],
   "outputs": [
    {
     "output_type": "stream",
     "name": "stdout",
     "text": [
      "Variables are: (theta, theta_t, phi, phi_t)\n",
      "['theta_t', 'sin(theta)', 'cos(theta)']\n",
      "['phi', 'phi_t']\n",
      "125  terms are:  ['theta_t', 'sin(theta)', 'cos(theta)', 'phi', 'phi_t', 'theta_t**2', 'theta_t*sin(theta)', 'sin(theta)**2', 'theta_t*cos(theta)', 'sin(theta)*cos(theta)', 'cos(theta)**2', 'theta_t*phi', 'sin(theta)*phi', 'cos(theta)*phi', 'phi**2', 'theta_t*phi_t', 'sin(theta)*phi_t', 'cos(theta)*phi_t', 'phi*phi_t', 'phi_t**2', 'theta_t**3', 'theta_t**2*sin(theta)', 'theta_t*sin(theta)**2', 'sin(theta)**3', 'theta_t**2*cos(theta)', 'theta_t*sin(theta)*cos(theta)', 'sin(theta)**2*cos(theta)', 'theta_t*cos(theta)**2', 'sin(theta)*cos(theta)**2', 'cos(theta)**3', 'theta_t**2*phi', 'theta_t*sin(theta)*phi', 'sin(theta)**2*phi', 'theta_t*cos(theta)*phi', 'sin(theta)*cos(theta)*phi', 'cos(theta)**2*phi', 'theta_t*phi**2', 'sin(theta)*phi**2', 'cos(theta)*phi**2', 'phi**3', 'theta_t**2*phi_t', 'theta_t*sin(theta)*phi_t', 'sin(theta)**2*phi_t', 'theta_t*cos(theta)*phi_t', 'sin(theta)*cos(theta)*phi_t', 'cos(theta)**2*phi_t', 'theta_t*phi*phi_t', 'sin(theta)*phi*phi_t', 'cos(theta)*phi*phi_t', 'phi**2*phi_t', 'theta_t*phi_t**2', 'sin(theta)*phi_t**2', 'cos(theta)*phi_t**2', 'phi*phi_t**2', 'phi_t**3', 'theta_t**4', 'theta_t**3*sin(theta)', 'theta_t**2*sin(theta)**2', 'theta_t*sin(theta)**3', 'sin(theta)**4', 'theta_t**3*cos(theta)', 'theta_t**2*sin(theta)*cos(theta)', 'theta_t*sin(theta)**2*cos(theta)', 'sin(theta)**3*cos(theta)', 'theta_t**2*cos(theta)**2', 'theta_t*sin(theta)*cos(theta)**2', 'sin(theta)**2*cos(theta)**2', 'theta_t*cos(theta)**3', 'sin(theta)*cos(theta)**3', 'cos(theta)**4', 'theta_t**3*phi', 'theta_t**2*sin(theta)*phi', 'theta_t*sin(theta)**2*phi', 'sin(theta)**3*phi', 'theta_t**2*cos(theta)*phi', 'theta_t*sin(theta)*cos(theta)*phi', 'sin(theta)**2*cos(theta)*phi', 'theta_t*cos(theta)**2*phi', 'sin(theta)*cos(theta)**2*phi', 'cos(theta)**3*phi', 'theta_t**2*phi**2', 'theta_t*sin(theta)*phi**2', 'sin(theta)**2*phi**2', 'theta_t*cos(theta)*phi**2', 'sin(theta)*cos(theta)*phi**2', 'cos(theta)**2*phi**2', 'theta_t*phi**3', 'sin(theta)*phi**3', 'cos(theta)*phi**3', 'phi**4', 'theta_t**3*phi_t', 'theta_t**2*sin(theta)*phi_t', 'theta_t*sin(theta)**2*phi_t', 'sin(theta)**3*phi_t', 'theta_t**2*cos(theta)*phi_t', 'theta_t*sin(theta)*cos(theta)*phi_t', 'sin(theta)**2*cos(theta)*phi_t', 'theta_t*cos(theta)**2*phi_t', 'sin(theta)*cos(theta)**2*phi_t', 'cos(theta)**3*phi_t', 'theta_t**2*phi*phi_t', 'theta_t*sin(theta)*phi*phi_t', 'sin(theta)**2*phi*phi_t', 'theta_t*cos(theta)*phi*phi_t', 'sin(theta)*cos(theta)*phi*phi_t', 'cos(theta)**2*phi*phi_t', 'theta_t*phi**2*phi_t', 'sin(theta)*phi**2*phi_t', 'cos(theta)*phi**2*phi_t', 'phi**3*phi_t', 'theta_t**2*phi_t**2', 'theta_t*sin(theta)*phi_t**2', 'sin(theta)**2*phi_t**2', 'theta_t*cos(theta)*phi_t**2', 'sin(theta)*cos(theta)*phi_t**2', 'cos(theta)**2*phi_t**2', 'theta_t*phi*phi_t**2', 'sin(theta)*phi*phi_t**2', 'cos(theta)*phi*phi_t**2', 'phi**2*phi_t**2', 'theta_t*phi_t**3', 'sin(theta)*phi_t**3', 'cos(theta)*phi_t**3', 'phi*phi_t**3', 'phi_t**4']\n",
      "Found good result at  15476 th trial:  (2, 5, 112)\n",
      "Found result after  0.963416337966919 s\n",
      "Elapsed time:  19.51893162727356\n",
      "\n",
      "Hamiltonian is  0.4999999999999993*phi_t**2*sin(theta)**2 + 0.49999999999999944*theta_t**2 + 9.809999999999992*cos(theta)\n",
      "Lagrangian is  0.5*phi_t**2*sin(theta)**2 + 0.5*theta_t**2 - 9.80999999999999*cos(theta)\n"
     ]
    }
   ],
   "metadata": {}
  },
  {
   "cell_type": "code",
   "execution_count": 13,
   "source": [
    "from sympy.physics.mechanics import *\n",
    "th,ph = dynamicsymbols('theta phi')\n",
    "dth,dph = dynamicsymbols('theta phi',1)\n",
    "# print(dth,dx)\n",
    "state = (th,dth,ph,dph)\n",
    "u = dynamicsymbols('u')\n",
    "L_subbed = L.subs(list(zip(data_description_sym,state)))\n",
    "# mprint(L_subbed)\n",
    "N = ReferenceFrame('N')\n",
    "N1=N.orientnew('N1','axis',[ph,N.z])\n",
    "m = (N1,u*N1.z)\n",
    "LM = LagrangesMethod(L_subbed,[th,ph],forcelist=[m],frame=N)\n",
    "me = LM.form_lagranges_equations()\n",
    "mprint( simplify(me) )\n",
    "equations = simplify(LM.rhs())\n",
    "mprint(equations)"
   ],
   "outputs": [
    {
     "output_type": "stream",
     "name": "stdout",
     "text": [
      "Matrix([\n",
      "[-9.80999999999999*sin(theta) - 0.5*sin(2*theta)*phi'**2 + 1.0*theta''],\n",
      "[          -u + 1.0*sin(theta)**2*phi'' + 1.0*sin(2*theta)*phi'*theta']])\n",
      "Matrix([\n",
      "[                                                theta'],\n",
      "[                                                  phi'],\n",
      "[(1.0*cos(theta)*phi'**2 + 9.80999999999999)*sin(theta)],\n",
      "[      1.0*(u - sin(2*theta)*phi'*theta')/sin(theta)**2]])\n"
     ]
    }
   ],
   "metadata": {}
  },
  {
   "cell_type": "code",
   "execution_count": null,
   "source": [],
   "outputs": [],
   "metadata": {}
  }
 ],
 "metadata": {
  "kernelspec": {
   "name": "python3",
   "display_name": "Python 3.8.10 64-bit ('SystemIdentification': conda)"
  },
  "language_info": {
   "codemirror_mode": {
    "name": "ipython",
    "version": 3
   },
   "file_extension": ".py",
   "mimetype": "text/x-python",
   "name": "python",
   "nbconvert_exporter": "python",
   "pygments_lexer": "ipython3",
   "version": "3.8.10"
  },
  "interpreter": {
   "hash": "d5784be8b0ed123205c521437a438df309f2d2f16cb6cf8124a1b3e0f87bfce1"
  }
 },
 "nbformat": 4,
 "nbformat_minor": 2
}