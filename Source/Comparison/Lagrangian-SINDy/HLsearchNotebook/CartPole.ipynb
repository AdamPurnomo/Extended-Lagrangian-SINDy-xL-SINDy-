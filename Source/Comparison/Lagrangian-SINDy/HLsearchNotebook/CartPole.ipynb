{
 "cells": [
  {
   "cell_type": "code",
   "execution_count": 1,
   "metadata": {},
   "outputs": [],
   "source": [
    "from HLsearch import *\n",
    "from scipy.integrate import solve_ivp\n",
    "import numpy as np\n",
    "from sympy import symbols, var, diff, simplify, collect,solve\n",
    "from sympy.utilities.lambdify import lambdify, implemented_function\n",
    "\n",
    "from operator import add,sub,mul\n",
    "\n",
    "import itertools\n",
    "import scipy.io as sio\n",
    "\n",
    "import time\n",
    "\n",
    "def generate_data(func, time, init_values):\n",
    "    sol = solve_ivp(func,[time[0],time[-1]],init_values,t_eval=time, method='RK45',rtol=1e-10,atol=1e-10)\n",
    "    return sol.y.T, np.array([func(0,sol.y.T[i,:]) for i in range(sol.y.T.shape[0])],dtype=np.float64)\n",
    "\n",
    "def pendulum(t,x):\n",
    "    return x[1],-9.81*np.sin(x[0])\n",
    "\n",
    "t = np.arange(0,1,0.01)\n",
    "y0=np.array([np.pi/4, 0])\n",
    "X,Xdot = generate_data(pendulum,t,y0)"
   ]
  },
  {
   "cell_type": "code",
   "execution_count": 2,
   "metadata": {},
   "outputs": [
    {
     "output_type": "stream",
     "name": "stdout",
     "text": [
      "Variables are: (x0, x0_t)\n['x0', 'x0_t', 'sin(x0)', 'cos(x0)', 'x0**2', 'x0*x0_t', 'x0_t**2', 'x0*sin(x0)', 'x0_t*sin(x0)', 'sin(x0)**2', 'x0*cos(x0)', 'x0_t*cos(x0)', 'sin(x0)*cos(x0)', 'cos(x0)**2']\n"
     ]
    }
   ],
   "source": [
    "data_description = ()\n",
    "for i in range(round(X.shape[1]/2)):\n",
    "    data_description = data_description + symbols('x{}, x{}_t'.format(i,i))\n",
    "print('Variables are:',data_description)\n",
    "data_description_sym = data_description\n",
    "data_description = list(str(descr) for descr in data_description)\n",
    "expr = buildFunctionExpressions(2,X.shape[1],data_description,use_sine=True)\n",
    "print(expr)\n",
    "Theta = buildTimeSerieMatrixFromFunctions(X,expr, data_description)\n",
    "\n",
    "Gamma = buildTimeDerivativeMatrixFromFunctions(X,Xdot,expr,data_description)\n",
    "\n",
    "\n",
    "u, s, vh = np.linalg.svd(0*Theta-Gamma,full_matrices=False)\n",
    "\n",
    "xi = vh.T[:,-1]"
   ]
  },
  {
   "cell_type": "code",
   "execution_count": 3,
   "metadata": {},
   "outputs": [
    {
     "output_type": "stream",
     "name": "stdout",
     "text": [
      "Now drop off small coefficients\n",
      "H =  9.718927488585155e-7*x0_t**2 - 1.9068535742240675e-5*cos(x0)\n"
     ]
    }
   ],
   "source": [
    "print('Now drop off small coefficients')\n",
    "Hamiltonian,terms = generateSimplifiedExpression(xi,expr)\n",
    "\n",
    "print('H = ',Hamiltonian)"
   ]
  },
  {
   "cell_type": "code",
   "execution_count": 4,
   "metadata": {},
   "outputs": [
    {
     "output_type": "stream",
     "name": "stdout",
     "text": [
      "Now start calculating CartPole\n"
     ]
    }
   ],
   "source": [
    "print('Now start calculating CartPole')\n",
    "\n",
    "g=9.81\n",
    "mp=0.1\n",
    "mc=1\n",
    "l=1\n",
    "\n",
    "def cartpole(t,y,f=0):\n",
    "    theta,thetadot,x,xdot = y\n",
    "    xdotdot = (f+mp*np.sin(theta)*(l*thetadot**2+g*np.cos(theta)))/(mc+mp*np.sin(theta)**2)\n",
    "    thetadotdot = (-f*np.cos(theta)-mp*l*thetadot**2*np.cos(theta)*np.sin(theta)-(mc+mp)*g*np.sin(theta))/(l*(mc+mp*np.sin(theta)**2))\n",
    "    return thetadot,thetadotdot,xdot,xdotdot\n",
    "\n",
    "t = np.arange(0,3,0.01)\n",
    "y0=np.array([np.pi/4, 0,0, 0])\n",
    "X,Xdot = generate_data(cartpole,t,y0)\n"
   ]
  },
  {
   "cell_type": "code",
   "execution_count": 5,
   "metadata": {},
   "outputs": [
    {
     "output_type": "stream",
     "name": "stdout",
     "text": [
      "Variables are: (x0, x0_t, x1, x1_t)\n['x0_t', 'sin(x0)', 'cos(x0)']\n['x1', 'x1_t']\n"
     ]
    }
   ],
   "source": [
    "data_description = ()\n",
    "for i in range(round(X.shape[1]/2)):\n",
    "    data_description = data_description + symbols('x{}, x{}_t'.format(i,i))\n",
    "print('Variables are:',data_description)\n",
    "data_description_sym = data_description\n",
    "data_description = list(str(descr) for descr in data_description)\n",
    "# print(data_description_sym)\n",
    "# print([data_description[i] for i in range(round(len(data_description)/2))])\n",
    "\n",
    "expr_new0 = buildFunctionExpressions(1,round(X.shape[1]/2),[data_description[i] for i in range(round(len(data_description)/2))],use_sine=True)\n",
    "expr_new1 = buildFunctionExpressions(1,round(X.shape[1]/2),[data_description[i] for i in range(round(len(data_description)/2),len(data_description))],use_sine=False)\n",
    "\n",
    "print(expr_new0[1:])\n",
    "print(expr_new1)\n",
    "expr_new = expr_new0[1:]+expr_new1\n",
    "expr_new = buildFunctionExpressions(3,len(expr_new),expr_new)"
   ]
  },
  {
   "cell_type": "code",
   "execution_count": 6,
   "metadata": {},
   "outputs": [],
   "source": [
    "Theta_new = buildTimeSerieMatrixFromFunctions(X,expr_new, data_description)\n",
    "Gamma_old = buildTimeDerivativeMatrixFromFunctions(X,Xdot,expr    ,data_description)\n",
    "Gamma_new = buildTimeDerivativeMatrixFromFunctions(X,Xdot,expr_new,data_description)"
   ]
  },
  {
   "cell_type": "code",
   "execution_count": 7,
   "metadata": {},
   "outputs": [
    {
     "output_type": "stream",
     "name": "stdout",
     "text": [
      "Keeping terms:  ['cos(x0)', 'x0_t**2']\n"
     ]
    }
   ],
   "source": [
    "stored_indices = tuple(expr_new.index(str(f)) for f in terms)\n",
    "\n",
    "print('Keeping terms: ',[expr_new[i] for i in stored_indices])\n",
    "elements = tuple(x for x in range(len(expr_new)) if x not in stored_indices)\n",
    "Hamiltonian_old = Hamiltonian\n",
    "\n",
    "combi_number = 2\n",
    "indices = itertools.combinations(elements, combi_number)\n",
    "zero_in_xi = np.array([collect(Hamiltonian_old,term).coeff(term) for term in terms],dtype=np.float32)\n",
    "for _ in itertools.repeat(None, combi_number):\n",
    "    zero_in_xi = np.insert(zero_in_xi,0,0)"
   ]
  },
  {
   "cell_type": "code",
   "execution_count": 8,
   "metadata": {},
   "outputs": [
    {
     "output_type": "stream",
     "name": "stdout",
     "text": [
      "Elapsed time:  0.68 s\n"
     ]
    }
   ],
   "source": [
    "goodHamiltonian={}\n",
    "\n",
    "force = 10\n",
    "def cartPoleWithForce(t,y):\n",
    "    global force\n",
    "    return cartpole(t,y,force)\n",
    "    \n",
    "t = np.arange(0,0.05,0.01)\n",
    "y0=np.array([np.pi/4, 0,0, 0])\n",
    "Xf,Xfdot = generate_data(cartPoleWithForce,t,y0)\n",
    "\n",
    "start = time.time()\n",
    "for count,index in enumerate(indices):\n",
    "# index_tup = (2,5,16,25)\n",
    "    index_tup = index + stored_indices\n",
    "    xi_new = STRidge(Gamma_new[:,index_tup], -1*np.dot(Gamma_old,xi),0.0,1000, 10**-12, print_results=False)\n",
    "    # Hamiltonian = Hamiltonian_old+generateExpression(xi_new,[expr_new[i] for i in index_tup],threshold=1e-6)\n",
    "    Hamiltonian = generateExpression(xi_new+zero_in_xi,[expr_new[i] for i in index_tup])\n",
    "    if np.linalg.norm(xi_new+zero_in_xi,2) < 1e-5: continue\n",
    "    # Hamiltonian = generateExpression(xi_new+zero_in_xi,[expr_new[i] for i in index_tup],threshold=1e-6)\n",
    "    energyFunc = lambdify(data_description,Hamiltonian,'numpy')\n",
    "    energy = np.array([energyFunc(* X[i,:]) for i in range(X.shape[0])])\n",
    "    if np.var(energy)<1e-13 and abs(np.mean(energy))>1e-3:\n",
    "        temp_terms = [sympify(expr_new[i]) for j,i in enumerate(index_tup) if abs(xi_new[j])>1e-8]\n",
    "        Lagrangian = findLagrangianFromHamiltonian(Hamiltonian,temp_terms,data_description_sym,threshold=1e-6)\n",
    "        if Lagrangian is not None and Lagrangian != '':\n",
    "            goodHamiltonian[simplify(Hamiltonian)] = Lagrangian\n",
    "            print('Found good result at ',count,'th trial: ',index_tup)\n",
    "\n",
    "print('Elapsed time: ',np.around(time.time()-start,2), 's')\n",
    "\n",
    "for H,L in goodHamiltonian.items():\n",
    "    print('')\n",
    "    dLdq_expr = diff(L, 'x1')\n",
    "    dLdqdot_expr = diff(L, 'x1_t')\n",
    "    dLdq = buildTimeSerieFromFunction(Xf,dLdq_expr,data_description_sym)\n",
    "    d_dLdqdot_dt = buildTimeDerivativeSerieFromFunction(Xf,Xfdot,dLdqdot_expr,data_description_sym)\n",
    "    fCal = d_dLdqdot_dt-dLdq\n",
    "    k = force/np.mean(fCal)\n",
    "    L=k*L\n",
    "    H=k*H\n",
    "    print('Hamiltonian is ',H)\n",
    "    print('Lagrangian is ',L)  "
   ]
  },
  {
   "cell_type": "code",
   "execution_count": 9,
   "metadata": {},
   "outputs": [
    {
     "output_type": "error",
     "ename": "NameError",
     "evalue": "name 'L' is not defined",
     "traceback": [
      "\u001b[1;31m---------------------------------------------------------------------------\u001b[0m",
      "\u001b[1;31mNameError\u001b[0m                                 Traceback (most recent call last)",
      "\u001b[1;32m<ipython-input-9-6d6f2c12f5c6>\u001b[0m in \u001b[0;36m<module>\u001b[1;34m\u001b[0m\n\u001b[0;32m      5\u001b[0m \u001b[0mstate\u001b[0m \u001b[1;33m=\u001b[0m \u001b[1;33m(\u001b[0m\u001b[0mth\u001b[0m\u001b[1;33m,\u001b[0m\u001b[0mdth\u001b[0m\u001b[1;33m,\u001b[0m\u001b[0mx\u001b[0m\u001b[1;33m,\u001b[0m\u001b[0mdx\u001b[0m\u001b[1;33m)\u001b[0m\u001b[1;33m\u001b[0m\u001b[1;33m\u001b[0m\u001b[0m\n\u001b[0;32m      6\u001b[0m \u001b[0mu\u001b[0m \u001b[1;33m=\u001b[0m \u001b[0mdynamicsymbols\u001b[0m\u001b[1;33m(\u001b[0m\u001b[1;34m'u'\u001b[0m\u001b[1;33m)\u001b[0m\u001b[1;33m\u001b[0m\u001b[1;33m\u001b[0m\u001b[0m\n\u001b[1;32m----> 7\u001b[1;33m \u001b[0mL_subbed\u001b[0m \u001b[1;33m=\u001b[0m \u001b[0mL\u001b[0m\u001b[1;33m.\u001b[0m\u001b[0msubs\u001b[0m\u001b[1;33m(\u001b[0m\u001b[0mlist\u001b[0m\u001b[1;33m(\u001b[0m\u001b[0mzip\u001b[0m\u001b[1;33m(\u001b[0m\u001b[0mdata_description_sym\u001b[0m\u001b[1;33m,\u001b[0m\u001b[0mstate\u001b[0m\u001b[1;33m)\u001b[0m\u001b[1;33m)\u001b[0m\u001b[1;33m)\u001b[0m\u001b[1;33m\u001b[0m\u001b[1;33m\u001b[0m\u001b[0m\n\u001b[0m\u001b[0;32m      8\u001b[0m \u001b[1;31m# mprint(L_subbed)\u001b[0m\u001b[1;33m\u001b[0m\u001b[1;33m\u001b[0m\u001b[1;33m\u001b[0m\u001b[0m\n\u001b[0;32m      9\u001b[0m \u001b[0mN\u001b[0m \u001b[1;33m=\u001b[0m \u001b[0mReferenceFrame\u001b[0m\u001b[1;33m(\u001b[0m\u001b[1;34m'N'\u001b[0m\u001b[1;33m)\u001b[0m\u001b[1;33m\u001b[0m\u001b[1;33m\u001b[0m\u001b[0m\n",
      "\u001b[1;31mNameError\u001b[0m: name 'L' is not defined"
     ]
    }
   ],
   "source": [
    "from sympy.physics.mechanics import *\n",
    "th,x = dynamicsymbols('theta x')\n",
    "dth,dx = dynamicsymbols('theta x',1)\n",
    "# print(dth,dx)\n",
    "state = (th,dth,x,dx)\n",
    "u = dynamicsymbols('u')\n",
    "L_subbed = L.subs(list(zip(data_description_sym,state)))\n",
    "# mprint(L_subbed)\n",
    "N = ReferenceFrame('N')\n",
    "P0 = Point(\"P0\")\n",
    "P0.set_vel(N,dx*N.x)\n",
    "# A = N.orientnew('A', 'axis', [th, N.z])\n",
    "# A.set_ang_vel(N, dth*N.z)\n",
    "fl=[(P0,u*N.x)]\n",
    "LM = LagrangesMethod(L_subbed,[th,x],forcelist=fl,frame=N)\n",
    "me = LM.form_lagranges_equations()\n",
    "mprint( simplify(me) )\n",
    "equations = simplify(LM.rhs())\n",
    "mprint(equations)"
   ]
  },
  {
   "cell_type": "code",
   "execution_count": null,
   "metadata": {},
   "outputs": [],
   "source": []
  }
 ],
 "metadata": {
  "kernelspec": {
   "display_name": "Python 3",
   "language": "python",
   "name": "python3"
  },
  "language_info": {
   "codemirror_mode": {
    "name": "ipython",
    "version": 3
   },
   "file_extension": ".py",
   "mimetype": "text/x-python",
   "name": "python",
   "nbconvert_exporter": "python",
   "pygments_lexer": "ipython3",
   "version": "3.7.7-final"
  }
 },
 "nbformat": 4,
 "nbformat_minor": 2
}