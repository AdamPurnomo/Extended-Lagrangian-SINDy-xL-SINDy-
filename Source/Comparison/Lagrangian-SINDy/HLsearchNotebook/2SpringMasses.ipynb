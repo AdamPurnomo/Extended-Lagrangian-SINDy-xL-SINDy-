{
 "cells": [
  {
   "cell_type": "code",
   "execution_count": 7,
   "metadata": {},
   "outputs": [
    {
     "name": "stdout",
     "output_type": "stream",
     "text": [
      "Variables are: (x0, x0_t)\n",
      "['x0', 'x0_t', 'sin(x0)', 'cos(x0)', 'x0**2', 'x0*x0_t', 'x0_t**2', 'x0*sin(x0)', 'x0_t*sin(x0)', 'sin(x0)**2', 'x0*cos(x0)', 'x0_t*cos(x0)', 'sin(x0)*cos(x0)', 'cos(x0)**2']\n",
      "Now drop off small coefficients\n",
      "H =  -0.18499615071074077*x0**2 - 0.007399846028685876*x0_t**2\n"
     ]
    }
   ],
   "source": [
    "from HLsearch import *\n",
    "from scipy.integrate import solve_ivp\n",
    "import numpy as np\n",
    "from sympy import symbols, var, diff, simplify, collect,solve\n",
    "from sympy.utilities.lambdify import lambdify, implemented_function\n",
    "\n",
    "from operator import add,sub,mul\n",
    "\n",
    "import itertools\n",
    "import scipy.io as sio\n",
    "data = sio.loadmat('./Data/springmass.mat')\n",
    "\n",
    "X = np.real(data['y'])\n",
    "Xdot = np.real(data['dy'])\n",
    "\n",
    "data_description = ()\n",
    "for i in range(round(X.shape[1]/2)):\n",
    "    data_description = data_description + symbols('x{}, x{}_t'.format(i,i))\n",
    "print('Variables are:',data_description)\n",
    "data_description_sym = data_description\n",
    "data_description = list(str(descr) for descr in data_description)\n",
    "expr = buildFunctionExpressions(2,X.shape[1],data_description,use_sine=True)\n",
    "print(expr)\n",
    "Theta = buildTimeSerieMatrixFromFunctions(X,expr, data_description)\n",
    "\n",
    "Gamma = buildTimeDerivativeMatrixFromFunctions(X,Xdot,expr,data_description)\n",
    "\n",
    "\n",
    "u, s, vh = np.linalg.svd(0*Theta-Gamma,full_matrices=False)\n",
    "\n",
    "xi = vh.T[:,-1]\n",
    "\n",
    "# print('{} coefficients ='.format(xi.shape[0]),xi)\n",
    "print('Now drop off small coefficients')\n",
    "Hamiltonian,terms = generateSimplifiedExpression(xi,expr)\n",
    "\n",
    "print('H = ',Hamiltonian)"
   ]
  },
  {
   "cell_type": "code",
   "execution_count": 8,
   "metadata": {},
   "outputs": [
    {
     "name": "stdout",
     "output_type": "stream",
     "text": [
      "Now start calculating 2 spring-mass\n",
      "Variables are: (x0, x0_t, x1, x1_t)\n",
      "Keeping terms:  ['x0**2', 'x0_t**2']\n",
      "(4, 6)\n",
      "Found good result at  0 th trial:  (0, 1, 2, 3, 5, 7, 8, 9, 10, 11, 12, 4, 6)\n",
      "Found good result at  1 th trial:  (0, 1, 2, 3, 5, 7, 8, 9, 10, 11, 13, 4, 6)\n",
      "Found good result at  2 th trial:  (0, 1, 2, 3, 5, 7, 8, 9, 10, 12, 13, 4, 6)\n",
      "Found good result at  3 th trial:  (0, 1, 2, 3, 5, 7, 8, 9, 11, 12, 13, 4, 6)\n",
      "Found good result at  4 th trial:  (0, 1, 2, 3, 5, 7, 8, 10, 11, 12, 13, 4, 6)\n",
      "Found good result at  5 th trial:  (0, 1, 2, 3, 5, 7, 9, 10, 11, 12, 13, 4, 6)\n",
      "Found good result at  6 th trial:  (0, 1, 2, 3, 5, 8, 9, 10, 11, 12, 13, 4, 6)\n",
      "Found good result at  7 th trial:  (0, 1, 2, 3, 7, 8, 9, 10, 11, 12, 13, 4, 6)\n",
      "Found good result at  8 th trial:  (0, 1, 2, 5, 7, 8, 9, 10, 11, 12, 13, 4, 6)\n",
      "Found good result at  9 th trial:  (0, 1, 3, 5, 7, 8, 9, 10, 11, 12, 13, 4, 6)\n",
      "Found good result at  10 th trial:  (0, 2, 3, 5, 7, 8, 9, 10, 11, 12, 13, 4, 6)\n",
      "Found good result at  11 th trial:  (1, 2, 3, 5, 7, 8, 9, 10, 11, 12, 13, 4, 6)\n"
     ]
    }
   ],
   "source": [
    "print('Now start calculating 2 spring-mass')\n",
    "\n",
    "data = sio.loadmat('./Data/springmass2_k_is_25_and_9.mat')\n",
    "\n",
    "X = np.real(data['y'])\n",
    "Xdot = np.real(data['dy'])\n",
    "data_description = ()\n",
    "for i in range(round(X.shape[1]/2)):\n",
    "    data_description = data_description + symbols('x{}, x{}_t'.format(i,i))\n",
    "print('Variables are:',data_description)\n",
    "data_description_sym = data_description\n",
    "data_description = list(str(descr) for descr in data_description)\n",
    "\n",
    "expr_new = buildFunctionExpressions(2,X.shape[1],data_description,use_sine=False)\n",
    "Theta_new = buildTimeSerieMatrixFromFunctions(X,expr_new, data_description)\n",
    "Gamma_old = buildTimeDerivativeMatrixFromFunctions(X,Xdot,expr    ,data_description)\n",
    "Gamma_new = buildTimeDerivativeMatrixFromFunctions(X,Xdot,expr_new,data_description)\n",
    "\n",
    "stored_indices = tuple(expr_new.index(str(f)) for f in terms)\n",
    "\n",
    "print('Keeping terms: ',[expr_new[i] for i in stored_indices])\n",
    "elements = tuple(x for x in range(len(expr_new)) if x not in stored_indices)\n",
    "print(stored_indices)\n",
    "Hamiltonian_old = Hamiltonian\n",
    "\n",
    "combi_number = 11\n",
    "indices = itertools.combinations(elements, combi_number)\n",
    "zero_in_xi = np.array([collect(Hamiltonian_old,term).coeff(term) for term in terms],dtype=np.float32)\n",
    "for _ in itertools.repeat(None, combi_number):\n",
    "    zero_in_xi = np.insert(zero_in_xi,0,0)\n",
    "# print(zero_in_xi)\n",
    "\n",
    "goodHamiltonian={}\n",
    "\n",
    "for count,index in enumerate(indices):\n",
    "# index_tup = (2,5,16,25)\n",
    "    index_tup = index + stored_indices\n",
    "    xi_new = STRidge(Gamma_new[:,index_tup], -1*np.dot(Gamma_old,xi),0.0,1000, 10**-12, print_results=False)\n",
    "    Hamiltonian = Hamiltonian_old+generateExpression(xi_new,[expr_new[i] for i in index_tup],threshold=1e-6)\n",
    "    if np.linalg.norm(xi_new+zero_in_xi,2) < 1e-5: continue\n",
    "    energyFunc = lambdify(data_description,Hamiltonian,'numpy')\n",
    "    energy = np.array([energyFunc(*X[i,:]) for i in range(X.shape[0])])\n",
    "    # var = np.var(energy)\n",
    "    if np.var(energy)<1e-10 and abs(np.mean(energy))>1e-3:\n",
    "        temp_terms = [sympify(expr_new[i]) for j,i in enumerate(index_tup) if abs(xi_new[j])>1e-8]\n",
    "        Lagrangian = findLagrangianFromHamiltonian(Hamiltonian,temp_terms,data_description_sym,threshold=1e-6)\n",
    "        if Lagrangian is not None and Lagrangian != '':\n",
    "            goodHamiltonian[str(simplify(Hamiltonian))] = Lagrangian\n",
    "            print('Found good result at ',count,'th trial: ',index_tup)\n"
   ]
  },
  {
   "cell_type": "code",
   "execution_count": 9,
   "metadata": {},
   "outputs": [
    {
     "name": "stdout",
     "output_type": "stream",
     "text": [
      "H =  16.999999999205109*x0**2 - 9.000000000000068*x0*x1 + 0.5000000000000042*x0_t**2 + 4.500000000000033*x1**2 + 0.5000000000000036*x1_t**2\n",
      "L =  -16.9999999992051*x0**2 + 9.00000000000006*x0*x1 + 0.500000000000004*x0_t**2 - 4.50000000000003*x1**2 + 0.500000000000003*x1_t**2\n"
     ]
    }
   ],
   "source": [
    "def generate_data(func, time, init_values):\n",
    "    sol = solve_ivp(func,[time[0],time[-1]],init_values,t_eval=time, method='RK45',rtol=1e-10,atol=1e-10)\n",
    "    return sol.y.T, np.array([func(0,sol.y.T[i,:]) for i in range(sol.y.T.shape[0])],dtype=np.float64)\n",
    "\n",
    "def twoSpringMassForced(t,y,f=1.0,k1=25,k2=9):\n",
    "    x1,x1_t,x2,x2_t = y\n",
    "    x1_2t = -(k1+k2)*x1 +k2*x2\n",
    "    x2_2t = -k2*(x2-x1) + f\n",
    "    return x1_t,x1_2t,x2_t,x2_2t\n",
    "\n",
    "t = np.arange(0,0.1,0.01)\n",
    "y0=np.array([1.0, 0,0, 0])\n",
    "Xf,Xfdot = generate_data(twoSpringMassForced,t,y0)\n",
    "best_var = np.inf\n",
    "best_L = None\n",
    "best_H = None\n",
    "\n",
    "for H,L in goodHamiltonian.items():\n",
    "    # print('Found Hamiltonian is ',H)\n",
    "    # print('Lagrangian is ',L)\n",
    "    dLdq_expr = diff(L, 'x1')\n",
    "    dLdqdot_expr = diff(L, 'x1_t')\n",
    "    dLdq = buildTimeSerieFromFunction(Xf,dLdq_expr,data_description_sym)\n",
    "    d_dLdqdot_dt = buildTimeDerivativeSerieFromFunction(Xf,Xfdot,dLdqdot_expr,data_description_sym)\n",
    "    fCal = d_dLdqdot_dt-dLdq\n",
    "    # print(np.var(fCal))\n",
    "    k = 1.0/np.mean(fCal)\n",
    "    # print('Hamiltonian is ',k*H)\n",
    "    # print('True Lagrangian is ',k*L)\n",
    "    # print('')\n",
    "    if np.var(fCal)<best_var:\n",
    "        best_var = np.var(fCal)\n",
    "        best_L = k*L\n",
    "        best_H = k*sympify(H)\n",
    "\n",
    "print('H = ',best_H)\n",
    "print('L = ',best_L)"
   ]
  }
 ],
 "metadata": {
  "kernelspec": {
   "display_name": "Python 3",
   "language": "python",
   "name": "python3"
  },
  "language_info": {
   "codemirror_mode": {
    "name": "ipython",
    "version": 3
   },
   "file_extension": ".py",
   "mimetype": "text/x-python",
   "name": "python",
   "nbconvert_exporter": "python",
   "pygments_lexer": "ipython3",
   "version": "3.6.7"
  }
 },
 "nbformat": 4,
 "nbformat_minor": 2
}
