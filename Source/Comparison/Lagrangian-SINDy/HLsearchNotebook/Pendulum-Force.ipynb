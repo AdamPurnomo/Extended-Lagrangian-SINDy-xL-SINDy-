{
 "cells": [
  {
   "cell_type": "code",
   "execution_count": 1,
   "metadata": {},
   "outputs": [],
   "source": [
    "from HLsearch import *\n",
    "from scipy.integrate import solve_ivp\n",
    "import numpy as np\n",
    "from sympy import symbols, var, diff, simplify, collect,solve\n",
    "from sympy.utilities.lambdify import lambdify, implemented_function\n",
    "from sympy.physics.mechanics import *\n",
    "\n",
    "from operator import add,sub,mul\n",
    "\n",
    "def generate_data(func, time, init_values):\n",
    "    sol = solve_ivp(func,[time[0],time[-1]],init_values,t_eval=time, method='RK45',rtol=1e-10,atol=1e-10)\n",
    "    return sol.y.T, np.array([func(0,sol.y.T[i,:]) for i in range(sol.y.T.shape[0])],dtype=np.float64)\n",
    "\n",
    "def pendulum(t,x):\n",
    "    return x[1],-9.81*np.sin(x[0])\n",
    "\n",
    "t = np.arange(0,10,0.01)\n",
    "y0=np.array([np.pi/4, 0])\n",
    "X,Xdot = generate_data(pendulum,t,y0)"
   ]
  },
  {
   "cell_type": "code",
   "execution_count": 2,
   "metadata": {},
   "outputs": [
    {
     "name": "stdout",
     "output_type": "stream",
     "text": [
      "Variables are: (x0, x0_t)\n",
      "['x0', 'x0_t', 'sin(x0)', 'cos(x0)', 'x0**2', 'x0*x0_t', 'x0_t**2', 'x0*sin(x0)', 'x0_t*sin(x0)', 'sin(x0)**2', 'x0*cos(x0)', 'x0_t*cos(x0)', 'sin(x0)*cos(x0)', 'cos(x0)**2']\n"
     ]
    }
   ],
   "source": [
    "data_description = ()\n",
    "for i in range(round(X.shape[1]/2)):\n",
    "    data_description = data_description + symbols('x{}, x{}_t'.format(i,i))\n",
    "print('Variables are:',data_description)\n",
    "data_description_sym = data_description\n",
    "data_description = list(str(descr) for descr in data_description)\n",
    "expr = buildFunctionExpressions(2,X.shape[1],data_description,use_sine=True)\n",
    "print(expr)\n",
    "Theta = buildTimeSerieMatrixFromFunctions(X,expr, data_description)\n",
    "\n",
    "Gamma = buildTimeDerivativeMatrixFromFunctions(X,Xdot,expr,data_description)\n",
    "\n",
    "\n",
    "u, s, vh = np.linalg.svd(0*Theta-Gamma,full_matrices=False)\n",
    "\n",
    "xi = vh.T[:,-1]"
   ]
  },
  {
   "cell_type": "code",
   "execution_count": 1,
   "metadata": {},
   "outputs": [
    {
     "output_type": "stream",
     "name": "stdout",
     "text": [
      "Now drop off small coefficients\n"
     ]
    },
    {
     "output_type": "error",
     "ename": "NameError",
     "evalue": "name 'generateSimplifiedExpression' is not defined",
     "traceback": [
      "\u001b[1;31m---------------------------------------------------------------------------\u001b[0m",
      "\u001b[1;31mNameError\u001b[0m                                 Traceback (most recent call last)",
      "\u001b[1;32m<ipython-input-1-b7ec6fd288e6>\u001b[0m in \u001b[0;36m<module>\u001b[1;34m\u001b[0m\n\u001b[0;32m      1\u001b[0m \u001b[0mprint\u001b[0m\u001b[1;33m(\u001b[0m\u001b[1;34m'Now drop off small coefficients'\u001b[0m\u001b[1;33m)\u001b[0m\u001b[1;33m\u001b[0m\u001b[1;33m\u001b[0m\u001b[0m\n\u001b[1;32m----> 2\u001b[1;33m \u001b[0mHamiltonian\u001b[0m\u001b[1;33m,\u001b[0m\u001b[0mterms\u001b[0m \u001b[1;33m=\u001b[0m \u001b[0mgenerateSimplifiedExpression\u001b[0m\u001b[1;33m(\u001b[0m\u001b[0mxi\u001b[0m\u001b[1;33m,\u001b[0m\u001b[0mexpr\u001b[0m\u001b[1;33m)\u001b[0m\u001b[1;33m\u001b[0m\u001b[1;33m\u001b[0m\u001b[0m\n\u001b[0m\u001b[0;32m      3\u001b[0m \u001b[1;33m\u001b[0m\u001b[0m\n\u001b[0;32m      4\u001b[0m \u001b[0mprint\u001b[0m\u001b[1;33m(\u001b[0m\u001b[1;34m'H = '\u001b[0m\u001b[1;33m,\u001b[0m\u001b[0mHamiltonian\u001b[0m\u001b[1;33m)\u001b[0m\u001b[1;33m\u001b[0m\u001b[1;33m\u001b[0m\u001b[0m\n\u001b[0;32m      5\u001b[0m \u001b[0mprint\u001b[0m\u001b[1;33m(\u001b[0m\u001b[1;34m'terms = '\u001b[0m\u001b[1;33m,\u001b[0m\u001b[0mterms\u001b[0m\u001b[1;33m)\u001b[0m\u001b[1;33m\u001b[0m\u001b[1;33m\u001b[0m\u001b[0m\n",
      "\u001b[1;31mNameError\u001b[0m: name 'generateSimplifiedExpression' is not defined"
     ]
    }
   ],
   "source": [
    "print('Now drop off small coefficients')\n",
    "Hamiltonian,terms = generateSimplifiedExpression(xi,expr)\n",
    "\n",
    "print('H = ',Hamiltonian)\n",
    "print('terms = ',terms)\n",
    "Lagrangian = findLagrangianFromHamiltonian(Hamiltonian,terms,data_description_sym)"
   ]
  },
  {
   "cell_type": "code",
   "execution_count": 4,
   "metadata": {},
   "outputs": [
    {
     "name": "stdout",
     "output_type": "stream",
     "text": [
      "L =  0.500000000009581*x0_t**2 + 9.81000000016065*cos(x0)\n"
     ]
    }
   ],
   "source": [
    "def pendulum_force(t,x,m=1):\n",
    "    return x[1],-9.81*np.sin(x[0])+m\n",
    "\n",
    "t = np.arange(0,0.1,0.01)\n",
    "y0=np.array([np.pi/4, 0])\n",
    "Xf,Xfdot = generate_data(pendulum_force,t,y0)\n",
    "\n",
    "dLdq_expr = diff(Lagrangian, data_description_sym[0])\n",
    "dLdqdot_expr = diff(Lagrangian, data_description_sym[1])\n",
    "dLdq = buildTimeSerieFromFunction(Xf,dLdq_expr,data_description_sym)\n",
    "d_dLdqdot_dt = buildTimeDerivativeSerieFromFunction(Xf,Xfdot,dLdqdot_expr,data_description_sym)\n",
    "fCal = d_dLdqdot_dt-dLdq\n",
    "k = 1.0/np.mean(fCal)\n",
    "Lagrangian = k*Lagrangian\n",
    "\n",
    "print('L = ',Lagrangian)"
   ]
  },
  {
   "cell_type": "code",
   "execution_count": 5,
   "metadata": {},
   "outputs": [
    {
     "name": "stdout",
     "output_type": "stream",
     "text": [
      "Matrix([[-r + 9.81000000016065*sin(x0) + 1.00000000001916*x0'']])\n"
     ]
    }
   ],
   "source": [
    "dyn_x0 = dynamicsymbols('x0')\n",
    "dyn_x0d = dynamicsymbols('x0',1)\n",
    "new_data = (dyn_x0,dyn_x0d)\n",
    "\n",
    "r = dynamicsymbols('r')\n",
    "\n",
    "# print(list(zip(data_description_sym,new_data)))\n",
    "\n",
    "Lagrangian = Lagrangian.subs(list(zip(data_description_sym,new_data)))\n",
    "# Lagrangian.subs(data_description_sym[1],dyn_x0d)\n",
    "\n",
    "# print(Lagrangian)\n",
    "\n",
    "N = ReferenceFrame('N')\n",
    "A = N.orientnew('A', 'axis', [dyn_x0, N.z])\n",
    "A.set_ang_vel(N, dyn_x0d*N.z)\n",
    "moment = (A,r*A.z)\n",
    "\n",
    "LM = LagrangesMethod(Lagrangian, [dyn_x0], forcelist=[moment], frame= N)\n",
    "mprint(LM.form_lagranges_equations())"
   ]
  },
  {
   "cell_type": "code",
   "execution_count": null,
   "metadata": {},
   "outputs": [],
   "source": []
  }
 ],
 "metadata": {
  "kernelspec": {
   "display_name": "Python 3",
   "language": "python",
   "name": "python3"
  },
  "language_info": {
   "codemirror_mode": {
    "name": "ipython",
    "version": 3
   },
   "file_extension": ".py",
   "mimetype": "text/x-python",
   "name": "python",
   "nbconvert_exporter": "python",
   "pygments_lexer": "ipython3",
   "version": "3.7.7-final"
  }
 },
 "nbformat": 4,
 "nbformat_minor": 2
}