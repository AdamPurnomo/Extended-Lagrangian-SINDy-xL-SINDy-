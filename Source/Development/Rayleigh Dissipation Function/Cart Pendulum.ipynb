{
    "cells": [
        {
            "cell_type": "code",
            "execution_count": null,
            "metadata": {},
            "outputs": [],
            "source": [
                "import numpy as np\n",
                "import sys \n",
                "sys.path.append(r'../../Python Script/')\n",
                "from sympy import symbols, simplify, derive_by_array\n",
                "from scipy.integrate import solve_ivp\n",
                "from xLSINDy import *\n",
                "from sympy.physics.mechanics import *\n",
                "from sympy import *\n",
                "import sympy\n",
                "import torch\n",
                "import HLsearch as HL\n",
                "import matplotlib.pyplot as plt"
            ]
        },
        {
            "cell_type": "code",
            "execution_count": null,
            "metadata": {},
            "outputs": [],
            "source": [
                "# System parameters\n",
                "# L= 1\n",
                "# mp, mc = 0.5, 1\n",
                "# k1, k2 = 0.5, 0.5\n",
                "# g = 9.81"
            ]
        },
        {
            "cell_type": "code",
            "execution_count": null,
            "metadata": {},
            "outputs": [],
            "source": [
                "states_dim = 4\n",
                "states = ()\n",
                "states_dot = ()\n",
                "for i in range(states_dim):\n",
                "    if(i<states_dim//2):\n",
                "        states = states + (symbols('x{}'.format(i)),)\n",
                "        states_dot = states_dot + (symbols('x{}_t'.format(i)),)\n",
                "    else:\n",
                "        states = states + (symbols('x{}_t'.format(i-states_dim//2)),)\n",
                "        states_dot = states_dot + (symbols('x{}_tt'.format(i-states_dim//2)),)\n",
                "print('states are:',states)\n",
                "print('states derivatives are: ', states_dot)\n",
                "\n",
                "#Turn from sympy to str\n",
                "states_sym = states\n",
                "states_dot_sym = states_dot\n",
                "states = list(str(descr) for descr in states)\n",
                "states_dot = list(str(descr) for descr in states_dot)"
            ]
        },
        {
            "cell_type": "code",
            "execution_count": null,
            "metadata": {},
            "outputs": [],
            "source": [
                "#For friction force\n",
                "x0 = Symbol(states[0], real=True)\n",
                "x1 = Symbol(states[1], real=True)\n",
                "x0_t = Symbol(states[2],real=True)\n",
                "x1_t = Symbol(states[3],real=True)\n",
                "q = sympy.Array([x0, x1])\n",
                "qdot = sympy.Array([x0_t, x1_t])\n",
                "\n",
                "#True Rayleigh Dissipation function\n",
                "dummy = Symbol('a', real = True)\n",
                "R = dummy #0.5*k1*x0_t**2 + 0.5*k2*(x1_t - x0_t)**2 #+ k1*Abs(x0_t) + k2*Abs(x1_t - x0_t)\n",
                "\n",
                "#friction force\n",
                "f_forcing = sympy.Matrix(derive_by_array(R, qdot)) "
            ]
        },
        {
            "cell_type": "code",
            "execution_count": null,
            "metadata": {},
            "outputs": [],
            "source": [
                "#for lagrangian\n",
                "x0 = dynamicsymbols(states[0], real=True)\n",
                "x1 = dynamicsymbols(states[1], real=True)\n",
                "x0_t = dynamicsymbols(states[0],1, real=True)\n",
                "x1_t = dynamicsymbols(states[1],1, real=True)\n",
                "F = symbols('F')\n",
                "mc = symbols('mc')\n",
                "mp = symbols('mp')\n",
                "L = symbols('L')\n",
                "g = symbols('g')\n",
                "\n",
                "#True Lagrangian\n",
                "L = 0.5*(mc+mp)*x1_t**2 + 0.5*mp*L**2*x0_t**2 + mp*L*x0_t*x1_t*cos(x0) + mp*g*L*cos(x0)\n",
                "# Lagrange's method\n",
                "LM = LagrangesMethod(L, [x0,x1])\n",
                "LM.form_lagranges_equations()\n",
                "i_forcing = LM.forcing #internal forcing and gravity\n",
                "e_forcing = sympy.Matrix([0, F]) #external generalized force"
            ]
        },
        {
            "cell_type": "code",
            "execution_count": null,
            "metadata": {},
            "outputs": [],
            "source": [
                "# Substituting dynamic symbols\n",
                "\n",
                "i_forcing = i_forcing.subs(x0_t, states_sym[2])\n",
                "i_forcing = i_forcing.subs(x1_t, states_sym[3])\n",
                "i_forcing = i_forcing.subs(x0, states_sym[0])\n",
                "i_forcing = i_forcing.subs(x1, states_sym[1])\n",
                "\n",
                "M = LM.mass_matrix\n",
                "M = M.subs(x0, states_sym[0])\n",
                "M = M.subs(x1, states_sym[1])"
            ]
        },
        {
            "cell_type": "code",
            "execution_count": null,
            "metadata": {},
            "outputs": [],
            "source": [
                "# Generating equation of motion\n",
                "t_forcing = i_forcing + e_forcing - f_forcing\n",
                "eom = M.inv()*sympy.Matrix(t_forcing)"
            ]
        },
        {
            "cell_type": "code",
            "execution_count": null,
            "metadata": {},
            "outputs": [],
            "source": [
                "eom = simplify(eom)"
            ]
        },
        {
            "cell_type": "code",
            "execution_count": null,
            "metadata": {},
            "outputs": [],
            "source": [
                "''' Please copy the string shown to the definition of equation in the function of double pendulum'''\n",
                "for i in range(len(eom)):\n",
                "    print('Equation ' + str(i) +': ' + str(eom[i]))\n",
                "    print('\\n')"
            ]
        },
        {
            "cell_type": "code",
            "execution_count": null,
            "metadata": {},
            "outputs": [],
            "source": [
                "import time\n",
                "\n",
                "g=9.81\n",
                "mp=0.5\n",
                "\n",
                "mc=1\n",
                "L=1\n",
                "\n",
                "def torque(t,omega):\n",
                "    return 0*np.cos(omega*t), 1*np.cos(omega*t)\n",
                "\n",
                "\n",
                "def cartpole(t,y,omega):\n",
                "    from numpy import sin, cos, sign\n",
                "    x0,x1,x0_t,x1_t = y\n",
                "    _, F = torque(t, omega)\n",
                "    x0_tt = -(1.0*g*(mc + mp)*sin(x0) + 1.0*(F + L*mp*x0_t**2*sin(x0))*cos(x0))/(L*(mc + mp*sin(x0)**2))\n",
                "    x1_tt =  1.0*(F + L*mp*x0_t**2*sin(x0) + g*mp*sin(x0)*cos(x0))/(mc + mp*sin(x0)**2)\n",
                "    return x0_t,x1_t,x0_tt,x1_tt\n",
                "\n",
                "\n",
                "def generate_data(func, time, init_values, omega):\n",
                "    sol = solve_ivp(func,[time[0],time[-1]],init_values,t_eval=time, method='LSODA', rtol=1e-10,atol=1e-10, args=[omega])\n",
                "    return sol.y.T, np.array([func(time[i],sol.y.T[i,:], omega = omega) for i in range(sol.y.T.shape[0])],dtype=np.float64)"
            ]
        },
        {
            "cell_type": "code",
            "execution_count": null,
            "metadata": {},
            "outputs": [],
            "source": [
                "#Saving Directory\n",
                "rootdir = \"../../Cart Pendulum/Data/Active/\"\n",
                "\n",
                "num_sample = 100\n",
                "create_data = False\n",
                "training = True\n",
                "save = False\n",
                "noiselevel = 1e-1"
            ]
        },
        {
            "cell_type": "code",
            "execution_count": null,
            "metadata": {},
            "outputs": [],
            "source": [
                "#Create training data\n",
                "if(create_data):\n",
                "    print(\"Creating Data . . .\")\n",
                "    num_sample = 100\n",
                "    X, Xdot = [], []\n",
                "    Tau = []\n",
                "    Omega = []\n",
                "    for i in range(num_sample):\n",
                "        t = np.arange(0,5,0.01)\n",
                "        theta = np.random.uniform(-np.pi, np.pi)\n",
                "        thetadot = np.random.uniform(0,0)\n",
                "        omega = np.random.uniform(np.pi/2, np.pi)\n",
                "        \n",
                "        _, F = torque(t, omega)\n",
                "        tau = np.array([_, F]).T    \n",
                "        y0=np.array([theta, 0, thetadot, 0])\n",
                "        x,xdot = generate_data(cartpole,t,y0, omega)\n",
                "        \n",
                "        #Omega.append(omega)\n",
                "        Tau.append(tau)\n",
                "        X.append(x)\n",
                "        Xdot.append(xdot)\n",
                "\n",
                "    X = np.vstack(X)\n",
                "    Xdot = np.vstack(Xdot)\n",
                "    Tau = np.vstack(Tau)\n",
                "    if(save==True):\n",
                "        np.save(rootdir + \"X.npy\", X)\n",
                "        np.save(rootdir + \"Xdot.npy\",Xdot)\n",
                "        np.save(rootdir + \"Tau.npy\", Tau)\n",
                "else:\n",
                "    X = np.load(rootdir + \"X.npy\")\n",
                "    Xdot = np.load(rootdir + \"Xdot.npy\")\n",
                "    Tau = np.load(rootdir + \"Tau.npy\")"
            ]
        },
        {
            "cell_type": "code",
            "execution_count": null,
            "metadata": {},
            "outputs": [],
            "source": [
                "#adding noise\n",
                "mu, sigma = 0, noiselevel\n",
                "noise = np.random.normal(mu, sigma, X.shape[0])\n",
                "for i in range(X.shape[1]):\n",
                "    X[:,i] = X[:,i]+noise\n",
                "    Xdot[:,i] = Xdot[:,i]+noise"
            ]
        },
        {
            "cell_type": "code",
            "execution_count": null,
            "metadata": {},
            "outputs": [],
            "source": [
                "states_dim = 4\n",
                "states = ()\n",
                "states_dot = ()\n",
                "for i in range(states_dim):\n",
                "    if(i<states_dim//2):\n",
                "        states = states + (symbols('x{}'.format(i)),)\n",
                "        states_dot = states_dot + (symbols('x{}_t'.format(i)),)\n",
                "    else:\n",
                "        states = states + (symbols('x{}_t'.format(i-states_dim//2)),)\n",
                "        states_dot = states_dot + (symbols('x{}_tt'.format(i-states_dim//2)),)\n",
                "print('states are:',states)\n",
                "print('states derivatives are: ', states_dot)"
            ]
        },
        {
            "cell_type": "code",
            "execution_count": null,
            "metadata": {},
            "outputs": [],
            "source": [
                "#Turn from sympy to str\n",
                "states_sym = states\n",
                "states_dot_sym = states_dot\n",
                "states = list(str(descr) for descr in states)\n",
                "states_dot = list(str(descr) for descr in states_dot)"
            ]
        },
        {
            "cell_type": "code",
            "execution_count": null,
            "metadata": {},
            "outputs": [],
            "source": [
                "#Separating states of pendulum and cart\n",
                "pendulum_states = []\n",
                "cartpole_states = []\n",
                "for i in range(states_dim):\n",
                "    if(i%2==0):\n",
                "        pendulum_states.append(states[i])\n",
                "    else:\n",
                "        cartpole_states.append(states[i])"
            ]
        },
        {
            "cell_type": "code",
            "execution_count": null,
            "metadata": {},
            "outputs": [],
            "source": [
                "#build function expression for the library in str\n",
                "pend_terms = HL.buildFunctionExpressions(1,states_dim//2,pendulum_states,use_sine=True)\n",
                "cartpole_terms = HL.buildFunctionExpressions(1,states_dim//2,cartpole_states,use_sine=False)\n",
                "\n",
                "#Assuming we get a prior knowledge about a single pendulum equations\n",
                "temp = pend_terms[1:] + cartpole_terms\n",
                "expr = HL.buildFunctionExpressions(3,len(temp),temp)"
            ]
        },
        {
            "cell_type": "code",
            "execution_count": null,
            "metadata": {},
            "outputs": [],
            "source": [
                "### Boundaries for debugging with only the correct terms ###"
            ]
        },
        {
            "cell_type": "code",
            "execution_count": null,
            "metadata": {},
            "outputs": [],
            "source": [
                "#Creating library tensor\n",
                "Zeta, Eta, Delta = LagrangianLibraryTensor(X,Xdot,expr,states,states_dot, scaling=False)"
            ]
        },
        {
            "cell_type": "code",
            "execution_count": null,
            "metadata": {},
            "outputs": [],
            "source": [
                "## Case I, input torque provided##\n",
                "expr = np.array(expr)\n",
                "\n",
                "\n",
                "#non-penalty index from prev knowledge\n",
                "i1 = np.where(expr == 'x0_t**2')[0][0]\n",
                "i2 = np.where(expr == 'cos(x0)')[0][0]\n",
                "\n",
                "nonpenaltyidx = [i1,i2]\n",
                "\n",
                "expr = expr.tolist()"
            ]
        },
        {
            "cell_type": "code",
            "execution_count": null,
            "metadata": {},
            "outputs": [],
            "source": [
                "#Moving to Cuda\n",
                "device = 'cuda:0'\n",
                "\n",
                "Zeta = Zeta.to(device)\n",
                "Eta = Eta.to(device)\n",
                "Delta = Delta.to(device)\n",
                "\n",
                "#computing upsilon\n",
                "UpsilonR = Upsilonforward(Zeta, Eta, Delta, Xdot, device)"
            ]
        },
        {
            "cell_type": "code",
            "execution_count": null,
            "metadata": {},
            "outputs": [],
            "source": [
                "xi_L = torch.ones(len(expr), device=device).data.uniform_(-10,10)\n",
                "prevxi_L = xi_L.clone().detach()"
            ]
        },
        {
            "cell_type": "code",
            "execution_count": null,
            "metadata": {},
            "outputs": [],
            "source": [
                "def loss(pred, targ):\n",
                "    loss = torch.mean((pred - targ)**2) \n",
                "    return loss "
            ]
        },
        {
            "cell_type": "code",
            "execution_count": null,
            "metadata": {},
            "outputs": [],
            "source": [
                "def clip(w, alpha):\n",
                "    clipped = torch.minimum(w,alpha)\n",
                "    clipped = torch.maximum(clipped,-alpha)\n",
                "    return clipped\n",
                "\n",
                "def proxL1norm(w_hat, alpha, nonpenaltyidx):\n",
                "    if(torch.is_tensor(alpha)==False):\n",
                "        alpha = torch.tensor(alpha)\n",
                "    w = w_hat - clip(w_hat,alpha)\n",
                "    for idx in nonpenaltyidx:\n",
                "        w[idx] = w_hat[idx]\n",
                "    return w"
            ]
        },
        {
            "cell_type": "code",
            "execution_count": null,
            "metadata": {},
            "outputs": [],
            "source": [
                "def training_loop(coef, prevcoef, UpsilonR, Tau, xdot, bs, lr, lam, momentum=True):\n",
                "    loss_list = []\n",
                "    tl = xdot.shape[0]\n",
                "    n = xdot.shape[1]\n",
                "\n",
                "    if(torch.is_tensor(xdot)==False):\n",
                "        xdot = torch.from_numpy(xdot).to(device).float()\n",
                "    if(torch.is_tensor(Tau)==False):\n",
                "        Tau = torch.from_numpy(Tau).to(device).float()\n",
                "\n",
                "    v = coef.clone().detach().requires_grad_(True)\n",
                "    prev = v\n",
                "    \n",
                "    for i in range(tl//bs):\n",
                "                \n",
                "        #computing acceleration with momentum\n",
                "        if(momentum==True):\n",
                "            vhat = (v + ((i-1)/(i+2))*(v - prev)).clone().detach().requires_grad_(True)\n",
                "        else:\n",
                "            vhat = v.requires_grad_(True).clone().detach().requires_grad_(True)\n",
                "   \n",
                "        prev = v\n",
                "\n",
                "        #Computing loss\n",
                "        upsilonR = UpsilonR[:,:,i*bs:(i+1)*bs]\n",
                "        tau = Tau[i*bs:(i+1)*bs]\n",
                "\n",
                "\n",
                "        #forward\n",
                "        pred = torch.einsum('jkl,k->jl', upsilonR, vhat)\n",
                "        targ = tau.T\n",
                "        \n",
                "        lossval = loss(pred, targ)\n",
                "        \n",
                "        #Backpropagation\n",
                "        lossval.backward()\n",
                "\n",
                "        with torch.no_grad():\n",
                "            v = vhat - lr*vhat.grad\n",
                "            v = (proxL1norm(v,lr*lam,nonpenaltyidx))\n",
                "            \n",
                "            # Manually zero the gradients after updating weights\n",
                "            vhat.grad = None\n",
                "        \n",
                "        \n",
                "    \n",
                "        \n",
                "        loss_list.append(lossval.item())\n",
                "    print(\"Average loss : \" , torch.tensor(loss_list).mean().item())\n",
                "    return v, prevcoef, torch.tensor(loss_list).mean().item()"
            ]
        },
        {
            "cell_type": "code",
            "execution_count": null,
            "metadata": {},
            "outputs": [],
            "source": [
                "Epoch = 500\n",
                "i = 0\n",
                "lr = 5e-6\n",
                "lam = 0\n",
                "temp = 200\n",
                "while(i<=Epoch):\n",
                "    print(\"Epoch \"+str(i) + \"/\" + str(Epoch))\n",
                "    print(\"Learning rate : \", lr)\n",
                "    xi_L, prevxi_L, lossitem= training_loop(xi_L,prevxi_L,UpsilonR,Tau,Xdot,128,lr=lr,lam=lam)\n",
                "    temp = lossitem\n",
                "    i+=1"
            ]
        },
        {
            "cell_type": "code",
            "execution_count": null,
            "metadata": {},
            "outputs": [],
            "source": [
                "## Thresholding\n",
                "threshold = 1e-2\n",
                "surv_index = ((torch.abs(xi_L) >= threshold)).nonzero(as_tuple=True)[0].detach().cpu().numpy()\n",
                "expr = np.array(expr)[surv_index].tolist()\n",
                "\n",
                "xi_L =xi_L[surv_index].clone().detach().requires_grad_(True)\n",
                "prevxi_L = xi_L.clone().detach()\n",
                "\n",
                "## obtaining analytical model\n",
                "xi_Lcpu = np.around(xi_L.detach().cpu().numpy(),decimals=2)\n",
                "L = HL.generateExpression(xi_Lcpu,expr,threshold=1e-3)\n",
                "print(\"Result stage 1: \", simplify(L))"
            ]
        },
        {
            "cell_type": "code",
            "execution_count": null,
            "metadata": {},
            "outputs": [],
            "source": [
                "Zeta, Eta, Delta = LagrangianLibraryTensor(X,Xdot,expr,states,states_dot, scaling=False)\n",
                "\n",
                "expr = np.array(expr)\n",
                "i1 = np.where(expr == 'x0_t**2')[0][0]\n",
                "i2 = np.where(expr == 'cos(x0)')[0][0]\n",
                "\n",
                "nonpenaltyidx = [i1,i2]\n",
                "\n",
                "\n",
                "Zeta = Zeta.to(device)\n",
                "Eta = Eta.to(device)\n",
                "Delta = Delta.to(device)\n",
                "\n",
                "#computing upsilon\n",
                "UpsilonR = Upsilonforward(Zeta, Eta, Delta, Xdot, device)"
            ]
        },
        {
            "cell_type": "code",
            "execution_count": null,
            "metadata": {},
            "outputs": [],
            "source": []
        },
        {
            "cell_type": "code",
            "execution_count": null,
            "metadata": {},
            "outputs": [],
            "source": []
        },
        {
            "cell_type": "code",
            "execution_count": null,
            "metadata": {},
            "outputs": [],
            "source": []
        },
        {
            "cell_type": "code",
            "execution_count": null,
            "metadata": {},
            "outputs": [],
            "source": []
        },
        {
            "cell_type": "code",
            "execution_count": null,
            "metadata": {},
            "outputs": [],
            "source": []
        },
        {
            "cell_type": "code",
            "execution_count": null,
            "metadata": {},
            "outputs": [],
            "source": []
        },
        {
            "cell_type": "code",
            "execution_count": null,
            "metadata": {},
            "outputs": [],
            "source": [
                "### Debugging computation\n",
                "expr = np.array(expr)\n",
                "i0 = np.where(expr == 'x0_t**2')[0][0]\n",
                "i1 = np.where(expr == 'x1_t**2')[0][0]\n",
                "i2 = np.where(expr == 'cos(x0)')[0][0]\n",
                "i3 = np.where(expr == 'x0_t*cos(x0)*x1_t')[0][0]\n",
                "\n",
                "expr = [expr[i0],expr[i1],expr[i2],expr[i3]]\n"
            ]
        },
        {
            "cell_type": "code",
            "execution_count": null,
            "metadata": {},
            "outputs": [],
            "source": [
                "#Creating library tensor\n",
                "Zeta, Eta, Delta = LagrangianLibraryTensor(X,Xdot,expr,states,states_dot, scaling=False)"
            ]
        },
        {
            "cell_type": "code",
            "execution_count": null,
            "metadata": {},
            "outputs": [],
            "source": [
                "#define the true coefficient\n",
                "xi_True = torch.ones(len(expr))\n",
                "xi_True[0] = 0.11#0.25\n",
                "xi_True[1] = 0.36#0.75\n",
                "xi_True[2] = 2.03#4.905\n",
                "xi_True[3] = 0.24#0.5"
            ]
        },
        {
            "cell_type": "code",
            "execution_count": null,
            "metadata": {},
            "outputs": [],
            "source": [
                "#Moving to Cuda\n",
                "device = 'cuda:0'\n",
                "\n",
                "Zeta = Zeta.to(device)\n",
                "Eta = Eta.to(device)\n",
                "Delta = Delta.to(device)\n",
                "\n",
                "xi_True = xi_True.to(device)"
            ]
        },
        {
            "cell_type": "code",
            "execution_count": null,
            "metadata": {},
            "outputs": [],
            "source": [
                "#compute tau prediction\n",
                "xdot = torch.from_numpy(Xdot).to(device).float()\n",
                "UpsilonL = Upsilonforward(Zeta, Eta, Delta, xdot, device)\n",
                "TauPred = torch.einsum('jkl,k->jl', UpsilonL, xi_True).detach().cpu().numpy().T\n",
                "\n",
                "TauEL = ELforward(xi_True, Zeta, Eta, Delta, xdot, device).detach().cpu().numpy().T"
            ]
        },
        {
            "cell_type": "code",
            "execution_count": null,
            "metadata": {},
            "outputs": [],
            "source": [
                "#plot the figures\n",
                "left_boundary = 0\n",
                "right_boundary = 5000\n",
                "t = np.arange(left_boundary,right_boundary)\n",
                "plt.plot(t,Tau[left_boundary:right_boundary,0])\n",
                "plt.plot(t,TauPred[left_boundary:right_boundary,0])\n",
                "plt.plot(t,TauEL[left_boundary:right_boundary,0])\n",
                "plt.show()\n",
                "\n",
                "plt.plot(t,Tau[left_boundary:right_boundary,1])\n",
                "plt.plot(t,TauPred[left_boundary:right_boundary,1])\n",
                "plt.plot(t,TauEL[left_boundary:right_boundary,1])\n",
                "plt.show()"
            ]
        },
        {
            "cell_type": "code",
            "execution_count": null,
            "metadata": {},
            "outputs": [],
            "source": [
                "plt.plot(t, Xdot[left_boundary:right_boundary,2])\n",
                "plt.show()"
            ]
        },
        {
            "cell_type": "code",
            "execution_count": null,
            "metadata": {},
            "outputs": [],
            "source": []
        },
        {
            "cell_type": "code",
            "execution_count": null,
            "metadata": {},
            "outputs": [],
            "source": [
                "### Debugging for training with only known terms\n",
                "expr = np.array(expr)\n",
                "i0 = np.where(expr == 'x0_t**2')[0][0]\n",
                "i1 = np.where(expr == 'x1_t**2')[0][0]\n",
                "i2 = np.where(expr == 'cos(x0)')[0][0]\n",
                "i3 = np.where(expr == 'x0_t*cos(x0)*x1_t')[0][0]\n",
                "\n",
                "expr = [expr[i0],expr[i1],expr[i2],expr[i3]]\n",
                "\n",
                "#non-penalty index from prev knowledge\n",
                "expr = np.array(expr)\n",
                "i4 = np.where(expr == 'x0_t**2')[0][0]\n",
                "i5 = np.where(expr == 'cos(x0)')[0][0]\n",
                "nonpenaltyidx = [i4,i5]"
            ]
        },
        {
            "cell_type": "code",
            "execution_count": null,
            "metadata": {},
            "outputs": [],
            "source": [
                "#Creating library tensor\n",
                "Zeta, Eta, Delta = LagrangianLibraryTensor(X,Xdot,expr,states,states_dot, scaling=False)"
            ]
        },
        {
            "cell_type": "code",
            "execution_count": null,
            "metadata": {},
            "outputs": [],
            "source": [
                "#Moving to Cuda\n",
                "device = 'cuda:0'\n",
                "\n",
                "Zeta = Zeta.to(device)\n",
                "Eta = Eta.to(device)\n",
                "Delta = Delta.to(device)"
            ]
        },
        {
            "cell_type": "code",
            "execution_count": null,
            "metadata": {},
            "outputs": [],
            "source": [
                "#initialize coefficient\n",
                "xi_L = torch.ones(len(expr), device=device).data.uniform_(-10,10)\n",
                "prevxi_L = xi_L.clone().detach()"
            ]
        },
        {
            "cell_type": "code",
            "execution_count": null,
            "metadata": {},
            "outputs": [],
            "source": [
                "#compute Upsilon\n",
                "xdot = torch.from_numpy(Xdot).to(device).float()\n",
                "UpsilonR = Upsilonforward(Zeta, Eta, Delta, Xdot, device)"
            ]
        },
        {
            "cell_type": "code",
            "execution_count": null,
            "metadata": {},
            "outputs": [],
            "source": []
        },
        {
            "cell_type": "code",
            "execution_count": null,
            "metadata": {},
            "outputs": [],
            "source": []
        },
        {
            "cell_type": "code",
            "execution_count": null,
            "metadata": {},
            "outputs": [],
            "source": []
        }
    ],
    "metadata": {
        "kernelspec": {
            "display_name": "Python 3.8.10 ('SystemIdentification')",
            "language": "python",
            "name": "python3"
        },
        "language_info": {
            "codemirror_mode": {
                "name": "ipython",
                "version": 3
            },
            "file_extension": ".py",
            "mimetype": "text/x-python",
            "name": "python",
            "nbconvert_exporter": "python",
            "pygments_lexer": "ipython3",
            "version": "3.8.10"
        },
        "orig_nbformat": 4,
        "vscode": {
            "interpreter": {
                "hash": "a4ed4680c7c46a218b8058c2660cec6a650dc98debbf7bcbd09838ba710de1ba"
            }
        }
    },
    "nbformat": 4,
    "nbformat_minor": 2
}
