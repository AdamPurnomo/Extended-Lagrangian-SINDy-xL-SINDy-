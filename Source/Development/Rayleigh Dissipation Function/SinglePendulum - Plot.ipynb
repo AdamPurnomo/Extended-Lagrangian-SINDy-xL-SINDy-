{
    "cells": [
        {
            "cell_type": "code",
            "execution_count": 19,
            "metadata": {},
            "outputs": [],
            "source": [
                "import numpy as np\n",
                "import sys \n",
                "sys.path.append(r'../../Python Script/')\n",
                "\n",
                "from sympy import symbols, simplify, derive_by_array\n",
                "from scipy.integrate import solve_ivp\n",
                "from xLSINDy import *\n",
                "from sympy.physics.mechanics import *\n",
                "from sympy import *\n",
                "import sympy\n",
                "import torch\n",
                "import HLsearch as HL\n",
                "import matplotlib.pyplot as plt"
            ]
        },
        {
            "cell_type": "code",
            "execution_count": 51,
            "metadata": {},
            "outputs": [],
            "source": [
                "#Saving Directory\n",
                "rootdir = \"../../Single Pendulum/\"\n",
                "\n",
                "num_sample = 1\n",
                "create_data = False\n",
                "training = False\n",
                "\n",
                "a = 1\n",
                "b = 1\n",
                "noiselevel = a*10**(-b)"
            ]
        },
        {
            "cell_type": "code",
            "execution_count": 52,
            "metadata": {},
            "outputs": [
                {
                    "name": "stdout",
                    "output_type": "stream",
                    "text": [
                        "states are: (x0, x0_t)\n",
                        "states derivatives are:  (x0_t, x0_tt)\n"
                    ]
                }
            ],
            "source": [
                "states_dim = 2\n",
                "states = ()\n",
                "states_dot = ()\n",
                "for i in range(states_dim):\n",
                "    if(i<states_dim//2):\n",
                "        states = states + (symbols('x{}'.format(i)),)\n",
                "        states_dot = states_dot + (symbols('x{}_t'.format(i)),)\n",
                "    else:\n",
                "        states = states + (symbols('x{}_t'.format(i-states_dim//2)),)\n",
                "        states_dot = states_dot + (symbols('x{}_tt'.format(i-states_dim//2)),)\n",
                "print('states are:',states)\n",
                "print('states derivatives are: ', states_dot)"
            ]
        },
        {
            "cell_type": "code",
            "execution_count": 53,
            "metadata": {},
            "outputs": [],
            "source": [
                "#Turn from sympy to str\n",
                "states_sym = states\n",
                "states_dot_sym = states_dot\n",
                "states = list(str(descr) for descr in states)\n",
                "states_dot = list(str(descr) for descr in states_dot)"
            ]
        },
        {
            "cell_type": "code",
            "execution_count": 54,
            "metadata": {},
            "outputs": [
                {
                    "name": "stdout",
                    "output_type": "stream",
                    "text": [
                        "0.36*x0_t**2 + 7.19*cos(x0)\n"
                    ]
                }
            ],
            "source": [
                "\n",
                "#identifier = \"no\"\n",
                "identifier = str(a) + \"e-0\" + str(b)\n",
                "if(training==False):\n",
                "    with open(rootdir + \"Data/Active/lagrangian_\" + identifier + \"_noise.txt\") as f:\n",
                "        L = f.readline()\n",
                "        print(L)\n",
                "        expr = L.split(\" +\")\n",
                "        device = \"cuda:0\"\n",
                "        xi_L = torch.ones(len(expr),device=device)\n",
                "        mask = torch.ones(len(expr),device=device)"
            ]
        },
        {
            "cell_type": "code",
            "execution_count": 55,
            "metadata": {},
            "outputs": [],
            "source": [
                "#for lagrangian\n",
                "x0 = dynamicsymbols(states[0], real=True)\n",
                "x0_t = dynamicsymbols(states[0],1, real=True)\n",
                "T = symbols('T')\n",
                "\n",
                "#True Lagrangian\n",
                "L = eval(str(L))\n",
                "\n",
                "# Lagrange's method\n",
                "LM = LagrangesMethod(L, [x0])\n",
                "LM.form_lagranges_equations()\n",
                "i_forcing = LM.forcing #internal forcing and gravity\n",
                "e_forcing = sympy.Matrix([T]) #external generalized force"
            ]
        },
        {
            "cell_type": "code",
            "execution_count": 56,
            "metadata": {},
            "outputs": [],
            "source": [
                "# Substituting dynamic symbols\n",
                "\n",
                "i_forcing = i_forcing.subs(x0_t, states_sym[1])\n",
                "i_forcing = i_forcing.subs(x0, states_sym[0])\n",
                "\n",
                "M = LM.mass_matrix\n",
                "M = M.subs(x0, states_sym[0])"
            ]
        },
        {
            "cell_type": "code",
            "execution_count": 57,
            "metadata": {},
            "outputs": [],
            "source": [
                "# Generating equation of motion\n",
                "t_forcing = i_forcing + e_forcing\n",
                "eom = M.inv()*sympy.Matrix(t_forcing)"
            ]
        },
        {
            "cell_type": "code",
            "execution_count": 58,
            "metadata": {},
            "outputs": [
                {
                    "name": "stdout",
                    "output_type": "stream",
                    "text": [
                        "Equation 0: 1.38888888888889*T - 9.98611111111111*sin(x0)\n",
                        "\n",
                        "\n"
                    ]
                }
            ],
            "source": [
                "''' Please copy the string shown to the definition of equation in the function of double pendulum'''\n",
                "for i in range(len(eom)):\n",
                "    print('Equation ' + str(i) +': ' + str(eom[i]))\n",
                "    print('\\n')"
            ]
        },
        {
            "cell_type": "code",
            "execution_count": 59,
            "metadata": {},
            "outputs": [],
            "source": [
                "import time\n",
                "\n",
                "g = 9.81\n",
                "m = 1\n",
                "L,l = 1,1\n",
                "\n",
                "\n",
                "def torque(t,omega):\n",
                "    return 2*np.cos(omega*t)\n",
                "\n",
                "\n",
                "def predictedsinglePendulum(t,y, omega):\n",
                "    from numpy import sin, cos, sign\n",
                "    x0,x0_t = y\n",
                "    T = torque(t, omega)\n",
                "    x0_tt = eval(str(eom[0]))\n",
                "    return x0_t, x0_tt\n",
                "\n",
                "def singlePendulum(t,y, omega):\n",
                "    from numpy import sin, cos, sign\n",
                "    x0,x0_t = y\n",
                "    T = torque(t, omega)\n",
                "    x0_tt = -1.0*g*sin(x0)/L + 1.0*T/(L**2*m)\n",
                "    return x0_t, x0_tt\n",
                "\n",
                "\n",
                "def generate_data(func, time, init_values, omega):\n",
                "    sol = solve_ivp(func,[time[0],time[-1]],init_values,t_eval=time, method='LSODA', rtol=1e-10,atol=1e-10, args=[omega])\n",
                "    return sol.y.T, np.array([func(time[i],sol.y.T[i,:], omega = omega) for i in range(sol.y.T.shape[0])],dtype=np.float64)"
            ]
        },
        {
            "cell_type": "code",
            "execution_count": 60,
            "metadata": {},
            "outputs": [],
            "source": [
                "## SINDy-PI ##\n",
                "\n",
                "'''file name : Double Pendulum/Data/SINDy-PI_2e-02_noise.txt'''\n",
                "\n",
                "def SINDyPI(t,y):\n",
                "    from numpy import sin, cos\n",
                "    z1,z2,z3,z4 = y\n",
                "    dz1=1.0*z3\n",
                "    dz2=z4\n",
                "    dz3=(2.292e+7*sin(2.0*z1 - 2.0*z2) - 2.093e+7*sin(2.0*z1 - 1.0*z2) + 2.005e+7*sin(z1 - z2) + 1.238e+7*sin(z1 - 2.0*z2) + 7.062e+7*sin(z1) - 5.678e+6*sin(z2) + 1.477e+6*z3**2*sin(2.0*z1 - 1.0*z2) + 1.06e+6*z4**2*sin(2.0*z1 - 1.0*z2) - 1.609e+6*z4**2*sin(2.0*z1 - 2.0*z2) - 1.887e+6*z3**2*sin(z1 - z2) + 3.678e+6*z4**2*sin(z1 - z2) + 1.541e+6*z3**2*sin(z1 - 2.0*z2) + 9.951e+5*z4**2*sin(z1 - 2.0*z2))/(6.543e+6*cos(z1 - 1.0*z2)**2 - 1.0e+7)\n",
                "    dz4=-(1.0*(8.16*sin(2.0*z1 - 1.0*z2) + 3.179*sin(2.0*z1 - 2.0*z2) - 2.906*sin(z1 - z2) + 1.408*sin(z1) - 9.208*sin(z2) + 0.8598*z3**2*sin(z1 - z2)))/(cos(z1 - 1.0*z2)**2 - 1.307)\n",
                "    return dz1, dz2, dz3, dz4"
            ]
        },
        {
            "cell_type": "code",
            "execution_count": 61,
            "metadata": {},
            "outputs": [],
            "source": [
                "## Training Results ##\n",
                "import matplotlib.pyplot as plt\n",
                "\n",
                "t = np.arange(0,10,0.01)\n",
                "theta = 0.2482306625459123\n",
                "thetadot = -1.3203817110229212\n",
                "cond = 0.5*thetadot**2 - np.cos(theta)\n",
                "#checking condition so that it does not go full loop\n",
                "while(cond>0.99):\n",
                "    theta = np.random.uniform(-np.pi, np.pi)\n",
                "    thetadot = np.random.uniform(-2.1,2.1)\n",
                "    cond = 0.5*thetadot**2 - np.cos(theta)\n",
                "omega = 2.537685907969456\n",
                "\n",
                "\n",
                "y0 = np.array([theta, thetadot])\n",
                "tau = torque(t, omega) \n",
                "\n",
                "#true value\n",
                "X,Xdot = generate_data(singlePendulum,t,y0,omega=omega)\n",
                "\n",
                "\n",
                "\n",
                "q_tt_true_wn = (Xdot[:,states_dim//2:].T).copy()\n",
                "q_t_true_wn = (Xdot[:,:states_dim//2].T).copy()\n",
                "q_true_wn = (X[:,:states_dim//2].T).copy()\n",
                "\n",
                "#adding noise\n",
                "mu, sigma = 0, noiselevel\n",
                "noise = np.random.normal(mu, sigma, X.shape[0])\n",
                "noise[500:] = 0\n",
                "for i in range(X.shape[1]):\n",
                "    X[:,i] = X[:,i]+noise\n",
                "    Xdot[:,i] = Xdot[:,i]+noise\n",
                "\n",
                "q_tt_true = Xdot[:,states_dim//2:].T\n",
                "q_t_true = Xdot[:,:states_dim//2].T\n",
                "q_true = X[:,:states_dim//2].T\n",
                "\n",
                "#xL-SINDy (active)\n",
                "Xpred, Xdotpred = generate_data(predictedsinglePendulum,t,y0,omega=omega)\n",
                "\n",
                "q_tt_pred = Xdotpred[:,states_dim//2:].T\n",
                "q_t_pred = Xdotpred[:,:states_dim//2].T\n",
                "q_pred = Xpred[:,:states_dim//2].T\n",
                "\n",
                "# #SINDy PI\n",
                "# Xspi, Xdotspi = generate_data(SINDyPI, t, y_0) \n",
                "\n",
                "# q_tt_spi = Xdotspi[:,states_dim//2:].T\n",
                "# q_t_spi = Xdotspi[:,:states_dim//2].T\n",
                "# q_spi = Xspi[:,:states_dim//2].T"
            ]
        },
        {
            "cell_type": "code",
            "execution_count": 62,
            "metadata": {},
            "outputs": [],
            "source": [
                "## Test Results ##\n",
                "# ttest = np.arange(5,10,0.01)\n",
                "# y_0 = np.array([q_true_wn[0,-1], q_true_wn[1,-1], q_t_true_wn[0,-1], q_t_true_wn[1,-1]])\n",
                "# Xtest,Xdottest = generate_data(doublePendulum, ttest, y_0)\n",
                "\n",
                "# y_0 = np.array([q_pred[0,-1], q_pred[1,-1], q_t_pred[0,-1], q_t_pred[1,-1]])\n",
                "# Xtestpred,Xdottestpred = generate_data(predicteddoublependulum, ttest, y_0)\n",
                "\n",
                "# # y_0 = np.array([q_spi[0,-1], q_spi[1,-1], q_t_spi[0,-1], q_t_spi[1,-1]])\n",
                "# # Xtestspi,Xdottestspi = generate_data(SINDyPI, ttest, y_0)"
            ]
        },
        {
            "cell_type": "code",
            "execution_count": 63,
            "metadata": {},
            "outputs": [],
            "source": [
                "# Concatenante training and test data\n",
                "# t = np.concatenate((t, ttest))\n",
                "# q_tt_true = np.concatenate((q_tt_true, Xdottest[:,states_dim//2:].T), axis=1)\n",
                "# q_t_true = np.concatenate((q_t_true, Xtest[:,states_dim//2:].T), axis=1)\n",
                "# q_true = np.concatenate((q_true,Xtest[:,:states_dim//2].T), axis=1)\n",
                "\n",
                "# q_tt_pred = np.concatenate((q_tt_pred,Xdottestpred[:,states_dim//2:].T), axis=1)\n",
                "# q_t_pred = np.concatenate((q_t_pred, Xtestpred[:,states_dim//2:].T), axis=1)\n",
                "# q_pred = np.concatenate((q_pred,Xtestpred[:,:states_dim//2].T), axis=1)\n",
                "\n",
                "# q_tt_spi = np.concatenate((q_tt_spi,Xdottestspi[:,states_dim//2:].T), axis=1)\n",
                "# q_t_spi = np.concatenate((q_t_spi, Xtestspi[:,states_dim//2:].T), axis=1)\n",
                "# q_spi = np.concatenate((q_spi,Xtestspi[:,:states_dim//2].T), axis=1)"
            ]
        },
        {
            "cell_type": "code",
            "execution_count": 64,
            "metadata": {},
            "outputs": [
                {
                    "data": {
                        "image/png": "[encoded data removed]",
                        "text/plain": [
                            "<Figure size 360x288 with 3 Axes>"
                        ]
                    },
                    "metadata": {
                        "needs_background": "light"
                    },
                    "output_type": "display_data"
                }
            ],
            "source": [
                "fig, ax = plt.subplots(3,1,figsize=(5,4))\n",
                "\n",
                "ax[0].plot(t, q_tt_true[0,:], label='True Model')\n",
                "ax[0].plot(t, q_tt_pred[0,:], 'r--',label='xL-SINDy (active)')\n",
                "ax[0].set_ylabel('$\\ddot{\\\\theta}$ (rad)')\n",
                "ax[0].vlines(5,0,1,transform=ax[0].get_xaxis_transform(),colors='k')\n",
                "ax[0].set_xlim([0,10])\n",
                "\n",
                "ax[1].plot(t, q_t_true[0,:], label='True Model')\n",
                "ax[1].plot(t, q_t_pred[0,:], 'r--',label='xL-SINDy (active)')\n",
                "ax[1].set_ylabel('$\\dot{\\\\theta}$ (rad)')\n",
                "ax[1].vlines(5,0,1,transform=ax[1].get_xaxis_transform(),colors='k')\n",
                "ax[1].set_xlim([0,10])\n",
                "\n",
                "ax[2].plot(t, q_true[0,:], label='True Model')\n",
                "ax[2].plot(t, q_pred[0,:], 'r--',label='xL-SINDy (active)')\n",
                "ax[2].set_xlabel('Time (s)')\n",
                "ax[2].set_ylabel('$\\\\theta$ (rad)')\n",
                "ax[2].vlines(5,0,1,transform=ax[2].get_xaxis_transform(),colors='k')\n",
                "ax[2].set_xlim([0,10])\n",
                "\n",
                "Line, Label = ax[0].get_legend_handles_labels()\n",
                "fig.legend(Line, Label, loc='upper right', bbox_to_anchor=(1.5, 0.98))\n",
                "\n",
                "fig.tight_layout()\n",
                "fig.savefig(rootdir + \"Images/Active/training_\" + identifier+ \"_noise.png\", bbox_inches='tight',dpi=400)\n"
            ]
        },
        {
            "cell_type": "code",
            "execution_count": 65,
            "metadata": {},
            "outputs": [],
            "source": [
                "np.save(rootdir + \"Data/Active/q_pred_\" + identifier + \"_noise.png\", q_pred)\n",
                "np.save(rootdir + \"Data/Active/q_true\", q_true)"
            ]
        },
        {
            "cell_type": "code",
            "execution_count": null,
            "metadata": {},
            "outputs": [],
            "source": []
        }
    ],
    "metadata": {
        "kernelspec": {
            "display_name": "Python 3.8.10 ('SystemIdentification')",
            "language": "python",
            "name": "python3"
        },
        "language_info": {
            "codemirror_mode": {
                "name": "ipython",
                "version": 3
            },
            "file_extension": ".py",
            "mimetype": "text/x-python",
            "name": "python",
            "nbconvert_exporter": "python",
            "pygments_lexer": "ipython3",
            "version": "3.8.10"
        },
        "orig_nbformat": 4,
        "vscode": {
            "interpreter": {
                "hash": "a4ed4680c7c46a218b8058c2660cec6a650dc98debbf7bcbd09838ba710de1ba"
            }
        }
    },
    "nbformat": 4,
    "nbformat_minor": 2
}
